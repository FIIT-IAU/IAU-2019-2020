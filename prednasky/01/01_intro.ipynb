{
 "cells": [
  {
   "cell_type": "markdown",
   "metadata": {
    "slideshow": {
     "slide_type": "slide"
    }
   },
   "source": [
    "# Úvod do inteligentnej analýzy údajov\n",
    "\n",
    "### Róbert Móro, Jakub Ševcech\n",
    "\n",
    "26.9.2019"
   ]
  },
  {
   "cell_type": "markdown",
   "metadata": {
    "slideshow": {
     "slide_type": "slide"
    }
   },
   "source": [
    "## Pýtať sa môžete na http://slido.com#iau"
   ]
  },
  {
   "cell_type": "markdown",
   "metadata": {
    "slideshow": {
     "slide_type": "slide"
    }
   },
   "source": [
    "# Dnes budeme hovoriť o..."
   ]
  },
  {
   "cell_type": "markdown",
   "metadata": {
    "slideshow": {
     "slide_type": "fragment"
    }
   },
   "source": [
    "### Dátovej vede"
   ]
  },
  {
   "cell_type": "markdown",
   "metadata": {
    "slideshow": {
     "slide_type": "fragment"
    }
   },
   "source": [
    "### Typoch otázok, ktoré sa môžu dátoví vedci pýtať"
   ]
  },
  {
   "cell_type": "markdown",
   "metadata": {
    "slideshow": {
     "slide_type": "fragment"
    }
   },
   "source": [
    "### Postupnosti krokov analýzy dát a strojového učenia"
   ]
  },
  {
   "cell_type": "markdown",
   "metadata": {
    "slideshow": {
     "slide_type": "fragment"
    }
   },
   "source": [
    "### Nástrojoch na analýzu dát"
   ]
  },
  {
   "cell_type": "markdown",
   "metadata": {
    "slideshow": {
     "slide_type": "fragment"
    }
   },
   "source": [
    "### Organizácii predmetu a podmienkach absolvovania"
   ]
  },
  {
   "attachments": {},
   "cell_type": "markdown",
   "metadata": {
    "slideshow": {
     "slide_type": "slide"
    }
   },
   "source": [
    "# Dátový vedec: Najsexy povolanie 21. storočia\\*\n",
    "\n",
    "\n",
    "\n",
    "\n",
    "\\* Thomas H. Davenport, D.J. Patil: Data Scientist: The Sexiest Job of the 21st Century, Harvard Business Review, 2012"
   ]
  },
  {
   "cell_type": "markdown",
   "metadata": {
    "slideshow": {
     "slide_type": "slide"
    }
   },
   "source": [
    "# Čo vám napadne, keď sa povie (inteligentná) analýza dát? A dátová veda?"
   ]
  },
  {
   "cell_type": "markdown",
   "metadata": {
    "slideshow": {
     "slide_type": "fragment"
    }
   },
   "source": [
    "<img src=\"img/kowalski-analysis.png\" alt=\"Kowalski, analysis!\" style=\"width: 800px; margin-right: auto; margin-left: auto;\"/>"
   ]
  },
  {
   "attachments": {},
   "cell_type": "markdown",
   "metadata": {
    "slideshow": {
     "slide_type": "slide"
    }
   },
   "source": [
    "## Neexistuje presná definícia, čo je to dátová veda. Dátový vedec je..."
   ]
  },
  {
   "attachments": {},
   "cell_type": "markdown",
   "metadata": {
    "slideshow": {
     "slide_type": "fragment"
    }
   },
   "source": [
    "...pokus o rebranding; niekto, kto ovláda štatistiku lepšie ako ktorýkoľvek softvérový inžinier a je lepší v softvérovom inžinierstve ako ktorýkoľvek štatistik\n",
    "\n",
    "https://www.quora.com/What-is-data-science/answer/Rahul-Agarwal-10"
   ]
  },
  {
   "attachments": {},
   "cell_type": "markdown",
   "metadata": {
    "slideshow": {
     "slide_type": "slide"
    }
   },
   "source": [
    "## Ani pracovná pozícia sa tak vždy nemusí volať\n",
    "\n",
    "<img src=\"img/kaggle-job-title.png\" alt=\"Alternativne nazvy povolani pre datoveho vedca\" style=\"width: 700px; margin-right: auto; margin-left: auto;\"/>\n",
    "\n",
    "Zdroj: The State of Data Science & Machine Learning. 2017. Kaggle. https://www.kaggle.com/surveys/2017"
   ]
  },
  {
   "attachments": {},
   "cell_type": "markdown",
   "metadata": {
    "slideshow": {
     "slide_type": "slide"
    }
   },
   "source": [
    "<img src=\"img/data-science-venn.png\" alt=\"Datova veda - Vennov diagram\" style=\"width: 1000px; margin-right: auto; margin-left: auto;\"/>"
   ]
  },
  {
   "cell_type": "markdown",
   "metadata": {
    "slideshow": {
     "slide_type": "slide"
    }
   },
   "source": [
    "<img src=\"img/2019_Matt_Turck_Big_Data_Landscape_Final_Fullsize.png\" alt=\"Big Data Landscape\" style=\"width: 1000px; margin-right: auto; margin-left: auto;\"/>"
   ]
  },
  {
   "attachments": {},
   "cell_type": "markdown",
   "metadata": {
    "slideshow": {
     "slide_type": "slide"
    }
   },
   "source": [
    "<img src=\"img/data-science-related.png\" alt=\"Pribuzne odbory\" style=\"width: 1000px; margin-right: auto; margin-left: auto;\"/>"
   ]
  },
  {
   "cell_type": "markdown",
   "metadata": {
    "slideshow": {
     "slide_type": "slide"
    }
   },
   "source": [
    "<img src=\"img/data-science-timeline.png\" alt=\"Historia datovej vedy a pribuznych disciplin\" style=\"width: 900px; margin-right: auto; margin-left: auto;\"/>\n",
    "\n",
    "Zdroj: http://shakthydoss.com/technical/what-is-the-difference-between-artificial-intelligence-machine-learning-statistics-and-data-mining/"
   ]
  },
  {
   "attachments": {},
   "cell_type": "markdown",
   "metadata": {
    "slideshow": {
     "slide_type": "slide"
    }
   },
   "source": [
    "Ak vyvíjate algoritmy napodobňujúce ľudské správanie (uvažovanie, reprezentácia znalostí, plánovanie a pod.), robíte v oblasti *umelej inteligencie*"
   ]
  },
  {
   "cell_type": "markdown",
   "metadata": {
    "slideshow": {
     "slide_type": "fragment"
    }
   },
   "source": [
    "Ak opisujete dáta (deskriptívna štatistika) alebo odvádzate závery o populácii na základe jej vzorky (inferenčná štatistika), tak ste zrejme *štatistik*"
   ]
  },
  {
   "attachments": {},
   "cell_type": "markdown",
   "metadata": {
    "slideshow": {
     "slide_type": "fragment"
    }
   },
   "source": [
    "Ak využívate inferenčnú štatistiku na tvorbu algoritmov, ktoré sú schopné samé sa učiť, tak zrejme robíte *strojové učenie*"
   ]
  },
  {
   "attachments": {},
   "cell_type": "markdown",
   "metadata": {
    "slideshow": {
     "slide_type": "fragment"
    }
   },
   "source": [
    "Ak využívate strojové učenie na riešenie konkrétneho problému a deskriptívnu štatistiku na opísanie dát a výsledkov, tak zrejme *dolujete v dátach*"
   ]
  },
  {
   "cell_type": "markdown",
   "metadata": {
    "slideshow": {
     "slide_type": "slide"
    }
   },
   "source": [
    "<img src=\"img/data-science-roles.png\" alt=\"Roly v datovej vede\" style=\"width: 1100px; margin-right: auto; margin-left: auto;\"/>\n",
    "\n",
    "Zdroj: Essential Data Skills - Supply and Demand. 2018 Kaggle ML & DS Survey. https://www.kaggle.com/mullervilmos/essential-data-skills-supply-and-demand"
   ]
  },
  {
   "attachments": {},
   "cell_type": "markdown",
   "metadata": {
    "slideshow": {
     "slide_type": "slide"
    }
   },
   "source": [
    "## Príklad: Chceme zlepšiť odporúčač na stránke\n",
    "\n",
    "<img src=\"img/recommendations.png\" alt=\"Odporucania\" style=\"width: 1200px; margin-right: auto; margin-left: auto;\"/>"
   ]
  },
  {
   "attachments": {},
   "cell_type": "markdown",
   "metadata": {
    "slideshow": {
     "slide_type": "slide"
    }
   },
   "source": [
    "## Dátový vedec...\n",
    "\n",
    "**1. Formuluje otázky a hypotézy**\n",
    "- Čo to znamená, že aktuálny odporúčač nefunguje (dobre)?\n",
    "- Aká metrika ma zaujíma?\n",
    "- Aké dáta mám k dispozícii? Čo sa zaznamenáva?\n",
    "- Ktoré signály sú dobré na predikciu správania (nákupu/záujmu) používateľa?"
   ]
  },
  {
   "attachments": {},
   "cell_type": "markdown",
   "metadata": {
    "slideshow": {
     "slide_type": "fragment"
    }
   },
   "source": [
    "**2. Definuje ideálnu dátovú sadu**\n",
    "- Získava dáta\n",
    "- Čistí ich\n",
    "- Skúma ich vlastnosti (prieskumná analýza)"
   ]
  },
  {
   "attachments": {},
   "cell_type": "markdown",
   "metadata": {
    "slideshow": {
     "slide_type": "slide"
    }
   },
   "source": [
    "## Dátový vedec...\n",
    "\n",
    "**3. Identifikuje a realizuje vhodný typ analýzy**\n",
    "- Návrh a implementácia nového odporúčača\n",
    "- Overenie (porovnanie) s aktuálnym"
   ]
  },
  {
   "attachments": {},
   "cell_type": "markdown",
   "metadata": {
    "slideshow": {
     "slide_type": "fragment"
    }
   },
   "source": [
    "**4. Interpretuje a komunikuje výsledky (dátový produkt)**"
   ]
  },
  {
   "cell_type": "markdown",
   "metadata": {
    "slideshow": {
     "slide_type": "fragment"
    }
   },
   "source": [
    "**5. Automatizuje kroky 2-4 pre predikcie na nových dátach**\n",
    "- Nasadenie odporúčača v produkčnom prostredí; škálovateľnosť"
   ]
  },
  {
   "cell_type": "markdown",
   "metadata": {
    "slideshow": {
     "slide_type": "slide"
    }
   },
   "source": [
    "# Čo nás ešte čaká\n",
    "\n",
    "1. *Dátová veda*\n",
    "\n",
    "2. **Typy otázok, ktoré sa pýtajú dátoví vedci**\n",
    "\n",
    "3. **Postupnosť krokov analýzy dát a strojového učenia**\n",
    "\n",
    "4. **Nástroje na analýzu dát**\n",
    "\n",
    "5. Organizácia predmetu a podmienky absolvovania"
   ]
  },
  {
   "attachments": {},
   "cell_type": "markdown",
   "metadata": {
    "slideshow": {
     "slide_type": "slide"
    }
   },
   "source": [
    "# Práca dátového vedca začína *otázkou*"
   ]
  },
  {
   "attachments": {},
   "cell_type": "markdown",
   "metadata": {
    "slideshow": {
     "slide_type": "fragment"
    }
   },
   "source": [
    "**Deskriptívna**\n",
    "- Nerobíme závery, nezovšeobecňujeme\n",
    "- *Koľko ľudí volilo konzervatívcov?*"
   ]
  },
  {
   "cell_type": "markdown",
   "metadata": {
    "slideshow": {
     "slide_type": "fragment"
    }
   },
   "source": [
    "**Exploratívna**\n",
    "- Pozeráme na dáta a hľadáme niečoho nové, čo sme nevedeli, nesnažíme sa to potvrdiť\n",
    "- *Ukazujú sa nejaké vzťahy medzi vekom a volebnou účasťou, resp. voľbou konzervatívcov/liberálov?*"
   ]
  },
  {
   "attachments": {},
   "cell_type": "markdown",
   "metadata": {
    "slideshow": {
     "slide_type": "slide"
    }
   },
   "source": [
    "**Inferenčná**\n",
    "- Zoberieme malú vzorku dát (pozorovaní) a snažíme sa extrapolovať a zovšeobecniť to pre väčšiu populáciu/vzorku\n",
    "- *Vplyv veku na volebnú účasť a voľbu*"
   ]
  },
  {
   "attachments": {},
   "cell_type": "markdown",
   "metadata": {
    "slideshow": {
     "slide_type": "fragment"
    }
   },
   "source": [
    "**Prediktívna**\n",
    "- Snažíme sa použiť dáta, ktoré sme zozbierali o nejakých objektoch, na predpovedanie hodnôt pre nejaký iný objekt \n",
    "- Aj keď X predpovedá Y, neznamená to, že X spôsobuje Y\n",
    "- *Ako budú voliť prvovoliči v najbližších voľbách?*"
   ]
  },
  {
   "attachments": {},
   "cell_type": "markdown",
   "metadata": {
    "slideshow": {
     "slide_type": "slide"
    }
   },
   "source": [
    "**Kauzálna (preskriptívna)**\n",
    "- Skúmame, čo sa stane s premennou X, ak zmeníme premennú Y\n",
    "- Na identifikovanie takejto závislosti sú potrebné randomizované štúdie\n",
    "- *Zmenila volebná kampaň názory voličov?*"
   ]
  },
  {
   "attachments": {},
   "cell_type": "markdown",
   "metadata": {
    "slideshow": {
     "slide_type": "slide"
    }
   },
   "source": [
    "## Postupnosť krokov pri strojovom učení (ML Workflow)"
   ]
  },
  {
   "attachments": {},
   "cell_type": "markdown",
   "metadata": {
    "slideshow": {
     "slide_type": "fragment"
    }
   },
   "source": [
    "**Definícia problému:** (ne)formálny opis, obmedzenia, manuálne riešenie"
   ]
  },
  {
   "attachments": {},
   "cell_type": "markdown",
   "metadata": {
    "slideshow": {
     "slide_type": "fragment"
    }
   },
   "source": [
    "**Integrácia dát:** konsolidácia formátu a štruktúry dát, prepájanie entít (záznamov)"
   ]
  },
  {
   "attachments": {},
   "cell_type": "markdown",
   "metadata": {
    "slideshow": {
     "slide_type": "fragment"
    }
   },
   "source": [
    "**Prieskumná analýza:** Deskriptívna štatistika, distribúcie, korelácie, vychýlené hodnoty, ..."
   ]
  },
  {
   "attachments": {},
   "cell_type": "markdown",
   "metadata": {
    "slideshow": {
     "slide_type": "fragment"
    }
   },
   "source": [
    "**Predspracovanie dát:** Vzorkovanie, riešenie vychýlených a chýbajúcich hodnôt, ..."
   ]
  },
  {
   "attachments": {},
   "cell_type": "markdown",
   "metadata": {
    "slideshow": {
     "slide_type": "slide"
    }
   },
   "source": [
    "**Tvorba čŕt:** extrakcia, transformácia a výber čŕt"
   ]
  },
  {
   "attachments": {},
   "cell_type": "markdown",
   "metadata": {
    "slideshow": {
     "slide_type": "fragment"
    }
   },
   "source": [
    "**Trénovanie, vyhodnocovanie a výber modelov:** zadefinovanie metodológie vyhodnotenia, optimalizácia hyperparametrov, výber optimálneho modelu"
   ]
  },
  {
   "attachments": {},
   "cell_type": "markdown",
   "metadata": {
    "slideshow": {
     "slide_type": "fragment"
    }
   },
   "source": [
    "**Prezentácia výsledkov:** vizualizácia výsledkov, obmedzenia navrhnutého riešenia, opis a zverejnenie datasetu, nasadenie a prevádzka"
   ]
  },
  {
   "cell_type": "markdown",
   "metadata": {
    "slideshow": {
     "slide_type": "slide"
    }
   },
   "source": [
    "# Ktorému kroku sa podľa vás venuje väčšinou najviac času?"
   ]
  },
  {
   "cell_type": "markdown",
   "metadata": {
    "slideshow": {
     "slide_type": "slide"
    }
   },
   "source": [
    "## Najväčšou bariérou pre dátových vedcov sú *špinavé dáta*\n",
    "\n",
    "<img src=\"img/data-scientists-problems.png\" alt=\"Bariery, ktorym celia datovi vedci\" style=\"width: 800px; margin-right: auto; margin-left: auto;\"/>\n",
    "\n",
    "Zdroj: The State of Data Science & Machine Learning. 2017. Kaggle. https://www.kaggle.com/surveys/2017"
   ]
  },
  {
   "cell_type": "markdown",
   "metadata": {
    "slideshow": {
     "slide_type": "slide"
    }
   },
   "source": [
    "<img src=\"img/data-scientists-tasks.png\" alt=\"Ulohy, ktorym sa venuju datovi vedci\" style=\"width: 1200px; margin-right: auto; margin-left: auto;\"/>\n",
    "\n",
    "Zdroj: Essential Data Skills - Supply and Demand. 2018 Kaggle ML & DS Survey. https://www.kaggle.com/mullervilmos/essential-data-skills-supply-and-demand"
   ]
  },
  {
   "attachments": {},
   "cell_type": "markdown",
   "metadata": {
    "slideshow": {
     "slide_type": "slide"
    }
   },
   "source": [
    "## Postupnosť krokov pri strojovom učení (ML Workflow)\n",
    "\n",
    "# Nikdy to nie je vodopád! "
   ]
  },
  {
   "attachments": {},
   "cell_type": "markdown",
   "metadata": {
    "slideshow": {
     "slide_type": "slide"
    }
   },
   "source": [
    "## Prístupov strojového učenia je množstvo, my sa dotkneme len niektorých\n",
    "\n",
    "<img src=\"img/ml-approaches.png\" alt=\"Pristupy strojoveho ucenia\" style=\"width: 900px; margin-right: auto; margin-left: auto;\"/>"
   ]
  },
  {
   "attachments": {},
   "cell_type": "markdown",
   "metadata": {
    "slideshow": {
     "slide_type": "slide"
    }
   },
   "source": [
    "## Preberieme najpoužívanejšie metódy strojového učenia – *logistickú* (a *lineárnu*) *regresiu* a *rozhodovacie stromy*"
   ]
  },
  {
   "cell_type": "markdown",
   "metadata": {
    "slideshow": {
     "slide_type": "fragment"
    }
   },
   "source": [
    "<img src=\"img/ml-approaches-most-used.png\" alt=\"Najpouzivanejsie pristupy strojoveho ucenia\" style=\"width: 800px; margin-right: auto; margin-left: auto;\"/>\n",
    "\n",
    "Zdroj: The State of Data Science & Machine Learning. 2017. Kaggle. https://www.kaggle.com/surveys/2017"
   ]
  },
  {
   "attachments": {},
   "cell_type": "markdown",
   "metadata": {
    "slideshow": {
     "slide_type": "slide"
    }
   },
   "source": [
    "## Aký je najpoužívanejší nástroj/jazyk na analýzu dát?"
   ]
  },
  {
   "cell_type": "markdown",
   "metadata": {
    "slideshow": {
     "slide_type": "fragment"
    }
   },
   "source": [
    "<img src=\"img/data-science-tools.png\" alt=\"Najpouzivanejsie nastroje/jazyky na analyzu dat\" style=\"width: 800px; margin-right: auto; margin-left: auto;\"/>\n",
    "\n",
    "Zdroj: The State of Data Science & Machine Learning. 2017. Kaggle. https://www.kaggle.com/surveys/2017"
   ]
  },
  {
   "attachments": {},
   "cell_type": "markdown",
   "metadata": {
    "slideshow": {
     "slide_type": "slide"
    }
   },
   "source": [
    "## My budeme na predmete pracovať s *Pythonom*\n",
    "\n",
    "<img src=\"img/python.png\" alt=\"Python\" style=\"width: 400px; float: left; margin-right: 20px; margin-top: 100px;\"/>\n",
    "<img src=\"img/jupyter.jpg\" alt=\"Jupyter\" style=\"width: 400px; float: left; margin-right: 20px; margin-top: 50px;\"/>"
   ]
  },
  {
   "cell_type": "markdown",
   "metadata": {
    "slideshow": {
     "slide_type": "slide"
    }
   },
   "source": [
    "# Ideme do finále\n",
    "\n",
    "1. *Dátová veda*\n",
    "\n",
    "2. *Typy otázok, ktoré sa pýtajú dátoví vedci*\n",
    "\n",
    "3. *Postupnosť krokov analýzy dát a strojového učenia*\n",
    "\n",
    "4. *Nástroje na analýzu dát*\n",
    "\n",
    "5. **Organizácia predmetu a podmienky absolvovania**"
   ]
  },
  {
   "attachments": {},
   "cell_type": "markdown",
   "metadata": {
    "slideshow": {
     "slide_type": "slide"
    }
   },
   "source": [
    "# Organizácia predmetu a podmienky absolvovania\n",
    "\n",
    "## https://github.com/robom/IAU-2019-2020"
   ]
  },
  {
   "cell_type": "markdown",
   "metadata": {
    "slideshow": {
     "slide_type": "slide"
    }
   },
   "source": [
    "# Vaša spätná väzba je pre nás dôležitá\n",
    "\n",
    "Minulý rok cca. 50% študentov vyplnilo záverečný dotazník v AISe"
   ]
  },
  {
   "cell_type": "markdown",
   "metadata": {
    "slideshow": {
     "slide_type": "fragment"
    }
   },
   "source": [
    "Zvýšili sme počet bodov za projekt (semester)"
   ]
  },
  {
   "cell_type": "markdown",
   "metadata": {
    "slideshow": {
     "slide_type": "fragment"
    }
   },
   "source": [
    "Spresnili sme zadanie projektu"
   ]
  },
  {
   "cell_type": "markdown",
   "metadata": {
    "slideshow": {
     "slide_type": "fragment"
    }
   },
   "source": [
    "Snažíme sa minimalizovať rozdiely v hodnotení medzi cvičiacimi"
   ]
  },
  {
   "cell_type": "markdown",
   "metadata": {
    "slideshow": {
     "slide_type": "fragment"
    }
   },
   "source": [
    "Pracujeme na zlepšení materiálov pre vás"
   ]
  },
  {
   "cell_type": "markdown",
   "metadata": {
    "slideshow": {
     "slide_type": "slide"
    }
   },
   "source": [
    "## Budeme radi, ak nám spätnú väzbu necháte tu: https://tinyurl.com/iau2019-w01"
   ]
  },
  {
   "attachments": {},
   "cell_type": "markdown",
   "metadata": {
    "slideshow": {
     "slide_type": "slide"
    }
   },
   "source": [
    "# Nabudúce:\n",
    "\n",
    "## Jakub Ševcech: Úvod do spracovania údajov v jazyku Python "
   ]
  }
 ],
 "metadata": {
  "celltoolbar": "Slideshow",
  "kernelspec": {
   "display_name": "Python 3",
   "language": "python",
   "name": "python3"
  },
  "language_info": {
   "codemirror_mode": {
    "name": "ipython",
    "version": 3
   },
   "file_extension": ".py",
   "mimetype": "text/x-python",
   "name": "python",
   "nbconvert_exporter": "python",
   "pygments_lexer": "ipython3",
   "version": "3.6.4"
  }
 },
 "nbformat": 4,
 "nbformat_minor": 2
}
