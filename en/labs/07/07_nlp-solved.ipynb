{
 "cells": [
  {
   "cell_type": "markdown",
   "metadata": {},
   "source": [
    "# Text processing in Python"
   ]
  },
  {
   "cell_type": "markdown",
   "metadata": {},
   "source": [
    "NLTK (http://www.nltk.org/)\n",
    "\n",
    "Gensim (https://radimrehurek.com/gensim/tutorial.html)\n",
    "\n",
    "### Tools (outside Python)\n",
    "\n",
    "Stanford CoreNLP (https://stanfordnlp.github.io/CoreNLP/; interface through NLTK library)\n",
    "\n",
    "Apache OpenNLP (https://opennlp.apache.org/)\n",
    "\n",
    "WordNet (https://wordnet.princeton.edu/; interface throgh NLTK library)"
   ]
  },
  {
   "cell_type": "markdown",
   "metadata": {},
   "source": [
    "# NLTK"
   ]
  },
  {
   "cell_type": "markdown",
   "metadata": {},
   "source": [
    "http://www.nltk.org/book/"
   ]
  },
  {
   "cell_type": "code",
   "execution_count": 1,
   "metadata": {},
   "outputs": [],
   "source": [
    "import nltk"
   ]
  },
  {
   "cell_type": "code",
   "execution_count": 2,
   "metadata": {},
   "outputs": [],
   "source": [
    "from nltk.corpus import inaugural"
   ]
  },
  {
   "cell_type": "code",
   "execution_count": 3,
   "metadata": {},
   "outputs": [
    {
     "data": {
      "text/plain": [
       "['1789-Washington.txt',\n",
       " '1793-Washington.txt',\n",
       " '1797-Adams.txt',\n",
       " '1801-Jefferson.txt',\n",
       " '1805-Jefferson.txt',\n",
       " '1809-Madison.txt',\n",
       " '1813-Madison.txt',\n",
       " '1817-Monroe.txt',\n",
       " '1821-Monroe.txt',\n",
       " '1825-Adams.txt',\n",
       " '1829-Jackson.txt',\n",
       " '1833-Jackson.txt',\n",
       " '1837-VanBuren.txt',\n",
       " '1841-Harrison.txt',\n",
       " '1845-Polk.txt',\n",
       " '1849-Taylor.txt',\n",
       " '1853-Pierce.txt',\n",
       " '1857-Buchanan.txt',\n",
       " '1861-Lincoln.txt',\n",
       " '1865-Lincoln.txt',\n",
       " '1869-Grant.txt',\n",
       " '1873-Grant.txt',\n",
       " '1877-Hayes.txt',\n",
       " '1881-Garfield.txt',\n",
       " '1885-Cleveland.txt',\n",
       " '1889-Harrison.txt',\n",
       " '1893-Cleveland.txt',\n",
       " '1897-McKinley.txt',\n",
       " '1901-McKinley.txt',\n",
       " '1905-Roosevelt.txt',\n",
       " '1909-Taft.txt',\n",
       " '1913-Wilson.txt',\n",
       " '1917-Wilson.txt',\n",
       " '1921-Harding.txt',\n",
       " '1925-Coolidge.txt',\n",
       " '1929-Hoover.txt',\n",
       " '1933-Roosevelt.txt',\n",
       " '1937-Roosevelt.txt',\n",
       " '1941-Roosevelt.txt',\n",
       " '1945-Roosevelt.txt',\n",
       " '1949-Truman.txt',\n",
       " '1953-Eisenhower.txt',\n",
       " '1957-Eisenhower.txt',\n",
       " '1961-Kennedy.txt',\n",
       " '1965-Johnson.txt',\n",
       " '1969-Nixon.txt',\n",
       " '1973-Nixon.txt',\n",
       " '1977-Carter.txt',\n",
       " '1981-Reagan.txt',\n",
       " '1985-Reagan.txt',\n",
       " '1989-Bush.txt',\n",
       " '1993-Clinton.txt',\n",
       " '1997-Clinton.txt',\n",
       " '2001-Bush.txt',\n",
       " '2005-Bush.txt',\n",
       " '2009-Obama.txt']"
      ]
     },
     "execution_count": 3,
     "metadata": {},
     "output_type": "execute_result"
    }
   ],
   "source": [
    "inaugural.fileids()"
   ]
  },
  {
   "cell_type": "code",
   "execution_count": 4,
   "metadata": {},
   "outputs": [
    {
     "data": {
      "text/plain": [
       "['Fellow', '-', 'Citizens', 'of', 'the', 'Senate', ...]"
      ]
     },
     "execution_count": 4,
     "metadata": {},
     "output_type": "execute_result"
    }
   ],
   "source": [
    "inaugural.words('1789-Washington.txt')"
   ]
  },
  {
   "cell_type": "code",
   "execution_count": 5,
   "metadata": {},
   "outputs": [
    {
     "data": {
      "text/plain": [
       "1538"
      ]
     },
     "execution_count": 5,
     "metadata": {},
     "output_type": "execute_result"
    }
   ],
   "source": [
    "len(inaugural.words('1789-Washington.txt'))"
   ]
  },
  {
   "cell_type": "code",
   "execution_count": 6,
   "metadata": {},
   "outputs": [
    {
     "data": {
      "text/plain": [
       "[['Fellow', '-', 'Citizens', 'of', 'the', 'Senate', 'and', 'of', 'the', 'House', 'of', 'Representatives', ':'], ['Among', 'the', 'vicissitudes', 'incident', 'to', 'life', 'no', 'event', 'could', 'have', 'filled', 'me', 'with', 'greater', 'anxieties', 'than', 'that', 'of', 'which', 'the', 'notification', 'was', 'transmitted', 'by', 'your', 'order', ',', 'and', 'received', 'on', 'the', '14th', 'day', 'of', 'the', 'present', 'month', '.'], ...]"
      ]
     },
     "execution_count": 6,
     "metadata": {},
     "output_type": "execute_result"
    }
   ],
   "source": [
    "inaugural.sents('1789-Washington.txt')"
   ]
  },
  {
   "cell_type": "code",
   "execution_count": 7,
   "metadata": {},
   "outputs": [],
   "source": [
    "texts = []\n",
    "for fileid in inaugural.fileids():\n",
    "    year = fileid[:4]\n",
    "    name = fileid[5:].split('.')[0]\n",
    "    text = ' '.join(inaugural.words(fileid))\n",
    "    texts.append({'name': name, 'year': year, 'text': text})"
   ]
  },
  {
   "cell_type": "code",
   "execution_count": 8,
   "metadata": {},
   "outputs": [
    {
     "data": {
      "text/plain": [
       "{'name': 'Washington',\n",
       " 'text': 'Fellow - Citizens of the Senate and of the House of Representatives : Among the vicissitudes incident to life no event could have filled me with greater anxieties than that of which the notification was transmitted by your order , and received on the 14th day of the present month . On the one hand , I was summoned by my Country , whose voice I can never hear but with veneration and love , from a retreat which I had chosen with the fondest predilection , and , in my flattering hopes , with an immutable decision , as the asylum of my declining years -- a retreat which was rendered every day more necessary as well as more dear to me by the addition of habit to inclination , and of frequent interruptions in my health to the gradual waste committed on it by time . On the other hand , the magnitude and difficulty of the trust to which the voice of my country called me , being sufficient to awaken in the wisest and most experienced of her citizens a distrustful scrutiny into his qualifications , could not but overwhelm with despondence one who ( inheriting inferior endowments from nature and unpracticed in the duties of civil administration ) ought to be peculiarly conscious of his own deficiencies . In this conflict of emotions all I dare aver is that it has been my faithful study to collect my duty from a just appreciation of every circumstance by which it might be affected . All I dare hope is that if , in executing this task , I have been too much swayed by a grateful remembrance of former instances , or by an affectionate sensibility to this transcendent proof of the confidence of my fellow citizens , and have thence too little consulted my incapacity as well as disinclination for the weighty and untried cares before me , my error will be palliated by the motives which mislead me , and its consequences be judged by my country with some share of the partiality in which they originated . Such being the impressions under which I have , in obedience to the public summons , repaired to the present station , it would be peculiarly improper to omit in this first official act my fervent supplications to that Almighty Being who rules over the universe , who presides in the councils of nations , and whose providential aids can supply every human defect , that His benediction may consecrate to the liberties and happiness of the people of the United States a Government instituted by themselves for these essential purposes , and may enable every instrument employed in its administration to execute with success the functions allotted to his charge . In tendering this homage to the Great Author of every public and private good , I assure myself that it expresses your sentiments not less than my own , nor those of my fellow citizens at large less than either . No people can be bound to acknowledge and adore the Invisible Hand which conducts the affairs of men more than those of the United States . Every step by which they have advanced to the character of an independent nation seems to have been distinguished by some token of providential agency ; and in the important revolution just accomplished in the system of their united government the tranquil deliberations and voluntary consent of so many distinct communities from which the event has resulted can not be compared with the means by which most governments have been established without some return of pious gratitude , along with an humble anticipation of the future blessings which the past seem to presage . These reflections , arising out of the present crisis , have forced themselves too strongly on my mind to be suppressed . You will join with me , I trust , in thinking that there are none under the influence of which the proceedings of a new and free government can more auspiciously commence . By the article establishing the executive department it is made the duty of the President \" to recommend to your consideration such measures as he shall judge necessary and expedient .\" The circumstances under which I now meet you will acquit me from entering into that subject further than to refer to the great constitutional charter under which you are assembled , and which , in defining your powers , designates the objects to which your attention is to be given . It will be more consistent with those circumstances , and far more congenial with the feelings which actuate me , to substitute , in place of a recommendation of particular measures , the tribute that is due to the talents , the rectitude , and the patriotism which adorn the characters selected to devise and adopt them . In these honorable qualifications I behold the surest pledges that as on one side no local prejudices or attachments , no separate views nor party animosities , will misdirect the comprehensive and equal eye which ought to watch over this great assemblage of communities and interests , so , on another , that the foundation of our national policy will be laid in the pure and immutable principles of private morality , and the preeminence of free government be exemplified by all the attributes which can win the affections of its citizens and command the respect of the world . I dwell on this prospect with every satisfaction which an ardent love for my country can inspire , since there is no truth more thoroughly established than that there exists in the economy and course of nature an indissoluble union between virtue and happiness ; between duty and advantage ; between the genuine maxims of an honest and magnanimous policy and the solid rewards of public prosperity and felicity ; since we ought to be no less persuaded that the propitious smiles of Heaven can never be expected on a nation that disregards the eternal rules of order and right which Heaven itself has ordained ; and since the preservation of the sacred fire of liberty and the destiny of the republican model of government are justly considered , perhaps , as deeply , as finally , staked on the experiment entrusted to the hands of the American people . Besides the ordinary objects submitted to your care , it will remain with your judgment to decide how far an exercise of the occasional power delegated by the fifth article of the Constitution is rendered expedient at the present juncture by the nature of objections which have been urged against the system , or by the degree of inquietude which has given birth to them . Instead of undertaking particular recommendations on this subject , in which I could be guided by no lights derived from official opportunities , I shall again give way to my entire confidence in your discernment and pursuit of the public good ; for I assure myself that whilst you carefully avoid every alteration which might endanger the benefits of an united and effective government , or which ought to await the future lessons of experience , a reverence for the characteristic rights of freemen and a regard for the public harmony will sufficiently influence your deliberations on the question how far the former can be impregnably fortified or the latter be safely and advantageously promoted . To the foregoing observations I have one to add , which will be most properly addressed to the House of Representatives . It concerns myself , and will therefore be as brief as possible . When I was first honored with a call into the service of my country , then on the eve of an arduous struggle for its liberties , the light in which I contemplated my duty required that I should renounce every pecuniary compensation . From this resolution I have in no instance departed ; and being still under the impressions which produced it , I must decline as inapplicable to myself any share in the personal emoluments which may be indispensably included in a permanent provision for the executive department , and must accordingly pray that the pecuniary estimates for the station in which I am placed may during my continuance in it be limited to such actual expenditures as the public good may be thought to require . Having thus imparted to you my sentiments as they have been awakened by the occasion which brings us together , I shall take my present leave ; but not without resorting once more to the benign Parent of the Human Race in humble supplication that , since He has been pleased to favor the American people with opportunities for deliberating in perfect tranquillity , and dispositions for deciding with unparalleled unanimity on a form of government for the security of their union and the advancement of their happiness , so His divine blessing may be equally conspicuous in the enlarged views , the temperate consultations , and the wise measures on which the success of this Government must depend .',\n",
       " 'year': '1789'}"
      ]
     },
     "execution_count": 8,
     "metadata": {},
     "output_type": "execute_result"
    }
   ],
   "source": [
    "texts[0]"
   ]
  },
  {
   "cell_type": "markdown",
   "metadata": {},
   "source": [
    "## Tokenization"
   ]
  },
  {
   "cell_type": "code",
   "execution_count": 9,
   "metadata": {},
   "outputs": [],
   "source": [
    "text = texts[0]['text']"
   ]
  },
  {
   "cell_type": "code",
   "execution_count": 10,
   "metadata": {},
   "outputs": [],
   "source": [
    "sentences = nltk.sent_tokenize(text)"
   ]
  },
  {
   "cell_type": "code",
   "execution_count": 11,
   "metadata": {},
   "outputs": [
    {
     "data": {
      "text/plain": [
       "['Fellow - Citizens of the Senate and of the House of Representatives : Among the vicissitudes incident to life no event could have filled me with greater anxieties than that of which the notification was transmitted by your order , and received on the 14th day of the present month .',\n",
       " 'On the one hand , I was summoned by my Country , whose voice I can never hear but with veneration and love , from a retreat which I had chosen with the fondest predilection , and , in my flattering hopes , with an immutable decision , as the asylum of my declining years -- a retreat which was rendered every day more necessary as well as more dear to me by the addition of habit to inclination , and of frequent interruptions in my health to the gradual waste committed on it by time .',\n",
       " 'On the other hand , the magnitude and difficulty of the trust to which the voice of my country called me , being sufficient to awaken in the wisest and most experienced of her citizens a distrustful scrutiny into his qualifications , could not but overwhelm with despondence one who ( inheriting inferior endowments from nature and unpracticed in the duties of civil administration ) ought to be peculiarly conscious of his own deficiencies .',\n",
       " 'In this conflict of emotions all I dare aver is that it has been my faithful study to collect my duty from a just appreciation of every circumstance by which it might be affected .',\n",
       " 'All I dare hope is that if , in executing this task , I have been too much swayed by a grateful remembrance of former instances , or by an affectionate sensibility to this transcendent proof of the confidence of my fellow citizens , and have thence too little consulted my incapacity as well as disinclination for the weighty and untried cares before me , my error will be palliated by the motives which mislead me , and its consequences be judged by my country with some share of the partiality in which they originated .']"
      ]
     },
     "execution_count": 11,
     "metadata": {},
     "output_type": "execute_result"
    }
   ],
   "source": [
    "sentences[:5]"
   ]
  },
  {
   "cell_type": "code",
   "execution_count": 12,
   "metadata": {},
   "outputs": [],
   "source": [
    "sent = sentences[0]"
   ]
  },
  {
   "cell_type": "code",
   "execution_count": 13,
   "metadata": {},
   "outputs": [],
   "source": [
    "tokens = nltk.word_tokenize(sent)"
   ]
  },
  {
   "cell_type": "code",
   "execution_count": 14,
   "metadata": {},
   "outputs": [
    {
     "data": {
      "text/plain": [
       "['Fellow',\n",
       " '-',\n",
       " 'Citizens',\n",
       " 'of',\n",
       " 'the',\n",
       " 'Senate',\n",
       " 'and',\n",
       " 'of',\n",
       " 'the',\n",
       " 'House',\n",
       " 'of',\n",
       " 'Representatives',\n",
       " ':',\n",
       " 'Among',\n",
       " 'the',\n",
       " 'vicissitudes',\n",
       " 'incident',\n",
       " 'to',\n",
       " 'life',\n",
       " 'no',\n",
       " 'event',\n",
       " 'could',\n",
       " 'have',\n",
       " 'filled',\n",
       " 'me',\n",
       " 'with',\n",
       " 'greater',\n",
       " 'anxieties',\n",
       " 'than',\n",
       " 'that',\n",
       " 'of',\n",
       " 'which',\n",
       " 'the',\n",
       " 'notification',\n",
       " 'was',\n",
       " 'transmitted',\n",
       " 'by',\n",
       " 'your',\n",
       " 'order',\n",
       " ',',\n",
       " 'and',\n",
       " 'received',\n",
       " 'on',\n",
       " 'the',\n",
       " '14th',\n",
       " 'day',\n",
       " 'of',\n",
       " 'the',\n",
       " 'present',\n",
       " 'month',\n",
       " '.']"
      ]
     },
     "execution_count": 14,
     "metadata": {},
     "output_type": "execute_result"
    }
   ],
   "source": [
    "tokens"
   ]
  },
  {
   "cell_type": "markdown",
   "metadata": {},
   "source": [
    "## Stemming"
   ]
  },
  {
   "cell_type": "markdown",
   "metadata": {},
   "source": [
    "Stemming retrieves stems of words. E.g., *working -> work*"
   ]
  },
  {
   "cell_type": "code",
   "execution_count": 15,
   "metadata": {},
   "outputs": [],
   "source": [
    "porter = nltk.PorterStemmer()"
   ]
  },
  {
   "cell_type": "code",
   "execution_count": 16,
   "metadata": {},
   "outputs": [
    {
     "data": {
      "text/plain": [
       "['fellow',\n",
       " '-',\n",
       " 'citizen',\n",
       " 'of',\n",
       " 'the',\n",
       " 'senat',\n",
       " 'and',\n",
       " 'of',\n",
       " 'the',\n",
       " 'hous',\n",
       " 'of',\n",
       " 'repres',\n",
       " ':',\n",
       " 'among',\n",
       " 'the',\n",
       " 'vicissitud',\n",
       " 'incid',\n",
       " 'to',\n",
       " 'life',\n",
       " 'no',\n",
       " 'event',\n",
       " 'could',\n",
       " 'have',\n",
       " 'fill',\n",
       " 'me',\n",
       " 'with',\n",
       " 'greater',\n",
       " 'anxieti',\n",
       " 'than',\n",
       " 'that',\n",
       " 'of',\n",
       " 'which',\n",
       " 'the',\n",
       " 'notif',\n",
       " 'wa',\n",
       " 'transmit',\n",
       " 'by',\n",
       " 'your',\n",
       " 'order',\n",
       " ',',\n",
       " 'and',\n",
       " 'receiv',\n",
       " 'on',\n",
       " 'the',\n",
       " '14th',\n",
       " 'day',\n",
       " 'of',\n",
       " 'the',\n",
       " 'present',\n",
       " 'month',\n",
       " '.']"
      ]
     },
     "execution_count": 16,
     "metadata": {},
     "output_type": "execute_result"
    }
   ],
   "source": [
    "[porter.stem(token) for token in tokens]"
   ]
  },
  {
   "cell_type": "markdown",
   "metadata": {},
   "source": [
    "## Lematizácia"
   ]
  },
  {
   "cell_type": "markdown",
   "metadata": {},
   "source": [
    "Lemmatization transforms words to their basic dictionary form (e.g. *worked -> work*). It is used mostly for inflected languages, such as Slovak. In languages such as English, stemming is preferred."
   ]
  },
  {
   "cell_type": "code",
   "execution_count": 17,
   "metadata": {},
   "outputs": [],
   "source": [
    "wnl = nltk.WordNetLemmatizer()"
   ]
  },
  {
   "cell_type": "code",
   "execution_count": 18,
   "metadata": {},
   "outputs": [
    {
     "data": {
      "text/plain": [
       "['Fellow',\n",
       " '-',\n",
       " 'Citizens',\n",
       " 'of',\n",
       " 'the',\n",
       " 'Senate',\n",
       " 'and',\n",
       " 'of',\n",
       " 'the',\n",
       " 'House',\n",
       " 'of',\n",
       " 'Representatives',\n",
       " ':',\n",
       " 'Among',\n",
       " 'the',\n",
       " 'vicissitude',\n",
       " 'incident',\n",
       " 'to',\n",
       " 'life',\n",
       " 'no',\n",
       " 'event',\n",
       " 'could',\n",
       " 'have',\n",
       " 'filled',\n",
       " 'me',\n",
       " 'with',\n",
       " 'greater',\n",
       " 'anxiety',\n",
       " 'than',\n",
       " 'that',\n",
       " 'of',\n",
       " 'which',\n",
       " 'the',\n",
       " 'notification',\n",
       " 'wa',\n",
       " 'transmitted',\n",
       " 'by',\n",
       " 'your',\n",
       " 'order',\n",
       " ',',\n",
       " 'and',\n",
       " 'received',\n",
       " 'on',\n",
       " 'the',\n",
       " '14th',\n",
       " 'day',\n",
       " 'of',\n",
       " 'the',\n",
       " 'present',\n",
       " 'month',\n",
       " '.']"
      ]
     },
     "execution_count": 18,
     "metadata": {},
     "output_type": "execute_result"
    }
   ],
   "source": [
    "[wnl.lemmatize(token) for token in tokens]"
   ]
  },
  {
   "cell_type": "markdown",
   "metadata": {},
   "source": [
    "## Part-of-Speech Tagging"
   ]
  },
  {
   "cell_type": "code",
   "execution_count": 19,
   "metadata": {},
   "outputs": [
    {
     "data": {
      "text/plain": [
       "[('Fellow', 'NNP'),\n",
       " ('-', ':'),\n",
       " ('Citizens', 'NNS'),\n",
       " ('of', 'IN'),\n",
       " ('the', 'DT'),\n",
       " ('Senate', 'NNP'),\n",
       " ('and', 'CC'),\n",
       " ('of', 'IN'),\n",
       " ('the', 'DT'),\n",
       " ('House', 'NNP'),\n",
       " ('of', 'IN'),\n",
       " ('Representatives', 'NNPS'),\n",
       " (':', ':'),\n",
       " ('Among', 'IN'),\n",
       " ('the', 'DT'),\n",
       " ('vicissitudes', 'NNS'),\n",
       " ('incident', 'NN'),\n",
       " ('to', 'TO'),\n",
       " ('life', 'NN'),\n",
       " ('no', 'DT'),\n",
       " ('event', 'NN'),\n",
       " ('could', 'MD'),\n",
       " ('have', 'VB'),\n",
       " ('filled', 'VBN'),\n",
       " ('me', 'PRP'),\n",
       " ('with', 'IN'),\n",
       " ('greater', 'JJR'),\n",
       " ('anxieties', 'NNS'),\n",
       " ('than', 'IN'),\n",
       " ('that', 'DT'),\n",
       " ('of', 'IN'),\n",
       " ('which', 'WDT'),\n",
       " ('the', 'DT'),\n",
       " ('notification', 'NN'),\n",
       " ('was', 'VBD'),\n",
       " ('transmitted', 'VBN'),\n",
       " ('by', 'IN'),\n",
       " ('your', 'PRP$'),\n",
       " ('order', 'NN'),\n",
       " (',', ','),\n",
       " ('and', 'CC'),\n",
       " ('received', 'VBD'),\n",
       " ('on', 'IN'),\n",
       " ('the', 'DT'),\n",
       " ('14th', 'JJ'),\n",
       " ('day', 'NN'),\n",
       " ('of', 'IN'),\n",
       " ('the', 'DT'),\n",
       " ('present', 'JJ'),\n",
       " ('month', 'NN'),\n",
       " ('.', '.')]"
      ]
     },
     "execution_count": 19,
     "metadata": {},
     "output_type": "execute_result"
    }
   ],
   "source": [
    "tagged = nltk.pos_tag(tokens)\n",
    "tagged"
   ]
  },
  {
   "cell_type": "code",
   "execution_count": 20,
   "metadata": {},
   "outputs": [
    {
     "name": "stdout",
     "output_type": "stream",
     "text": [
      "IN: preposition or conjunction, subordinating\n",
      "    astride among uppon whether out inside pro despite on by throughout\n",
      "    below within for towards near behind atop around if like until below\n",
      "    next into if beside ...\n"
     ]
    }
   ],
   "source": [
    "nltk.help.upenn_tagset('IN')"
   ]
  },
  {
   "cell_type": "code",
   "execution_count": 21,
   "metadata": {},
   "outputs": [
    {
     "name": "stdout",
     "output_type": "stream",
     "text": [
      "NNP: noun, proper, singular\n",
      "    Motown Venneboerger Czestochwa Ranzer Conchita Trumplane Christos\n",
      "    Oceanside Escobar Kreisler Sawyer Cougar Yvette Ervin ODI Darryl CTCA\n",
      "    Shannon A.K.C. Meltex Liverpool ...\n"
     ]
    }
   ],
   "source": [
    "nltk.help.upenn_tagset('NNP')"
   ]
  },
  {
   "cell_type": "markdown",
   "metadata": {},
   "source": [
    "## Named entities"
   ]
  },
  {
   "cell_type": "code",
   "execution_count": 22,
   "metadata": {},
   "outputs": [],
   "source": [
    "entities = nltk.chunk.ne_chunk(tagged)"
   ]
  },
  {
   "cell_type": "code",
   "execution_count": 23,
   "metadata": {},
   "outputs": [
    {
     "name": "stdout",
     "output_type": "stream",
     "text": [
      "Tree('S', [Tree('GPE', [('Fellow', 'NNP')]), ('-', ':'), ('Citizens', 'NNS'), ('of', 'IN'), ('the', 'DT'), Tree('ORGANIZATION', [('Senate', 'NNP')]), ('and', 'CC'), ('of', 'IN'), ('the', 'DT'), Tree('ORGANIZATION', [('House', 'NNP')]), ('of', 'IN'), ('Representatives', 'NNPS'), (':', ':'), ('Among', 'IN'), ('the', 'DT'), ('vicissitudes', 'NNS'), ('incident', 'NN'), ('to', 'TO'), ('life', 'NN'), ('no', 'DT'), ('event', 'NN'), ('could', 'MD'), ('have', 'VB'), ('filled', 'VBN'), ('me', 'PRP'), ('with', 'IN'), ('greater', 'JJR'), ('anxieties', 'NNS'), ('than', 'IN'), ('that', 'DT'), ('of', 'IN'), ('which', 'WDT'), ('the', 'DT'), ('notification', 'NN'), ('was', 'VBD'), ('transmitted', 'VBN'), ('by', 'IN'), ('your', 'PRP$'), ('order', 'NN'), (',', ','), ('and', 'CC'), ('received', 'VBD'), ('on', 'IN'), ('the', 'DT'), ('14th', 'JJ'), ('day', 'NN'), ('of', 'IN'), ('the', 'DT'), ('present', 'JJ'), ('month', 'NN'), ('.', '.')])\n"
     ]
    }
   ],
   "source": [
    "print(entities.__repr__())"
   ]
  },
  {
   "cell_type": "markdown",
   "metadata": {},
   "source": [
    "## N-grams"
   ]
  },
  {
   "cell_type": "code",
   "execution_count": 24,
   "metadata": {},
   "outputs": [],
   "source": [
    "tokens = nltk.word_tokenize(text)"
   ]
  },
  {
   "cell_type": "code",
   "execution_count": 25,
   "metadata": {},
   "outputs": [
    {
     "data": {
      "text/plain": [
       "[('Fellow', '-'),\n",
       " ('-', 'Citizens'),\n",
       " ('Citizens', 'of'),\n",
       " ('of', 'the'),\n",
       " ('the', 'Senate')]"
      ]
     },
     "execution_count": 25,
     "metadata": {},
     "output_type": "execute_result"
    }
   ],
   "source": [
    "bigrams = list(nltk.bigrams(tokens))\n",
    "bigrams[:5]"
   ]
  },
  {
   "cell_type": "code",
   "execution_count": 26,
   "metadata": {},
   "outputs": [
    {
     "data": {
      "text/plain": [
       "[(('of', 'the'), 20),\n",
       " ((',', 'and'), 15),\n",
       " (('to', 'the'), 11),\n",
       " (('in', 'the'), 9),\n",
       " ((',', 'I'), 7),\n",
       " ((',', 'in'), 7),\n",
       " (('which', 'the'), 6),\n",
       " (('which', 'I'), 6),\n",
       " (('by', 'the'), 6),\n",
       " (('for', 'the'), 6)]"
      ]
     },
     "execution_count": 26,
     "metadata": {},
     "output_type": "execute_result"
    }
   ],
   "source": [
    "nltk.FreqDist(bigrams).most_common(10)"
   ]
  },
  {
   "cell_type": "code",
   "execution_count": 27,
   "metadata": {},
   "outputs": [],
   "source": [
    "stopwords = nltk.corpus.stopwords.words('english')"
   ]
  },
  {
   "cell_type": "code",
   "execution_count": 28,
   "metadata": {},
   "outputs": [
    {
     "data": {
      "text/plain": [
       "['i', 'me', 'my', 'myself', 'we', 'our', 'ours', 'ourselves', 'you', \"you're\"]"
      ]
     },
     "execution_count": 28,
     "metadata": {},
     "output_type": "execute_result"
    }
   ],
   "source": [
    "stopwords[:10]"
   ]
  },
  {
   "cell_type": "code",
   "execution_count": 29,
   "metadata": {},
   "outputs": [],
   "source": [
    "tokens_cleared = [token.lower() for token in tokens if token.isalpha() and token.lower() not in stopwords]"
   ]
  },
  {
   "cell_type": "code",
   "execution_count": 30,
   "metadata": {},
   "outputs": [
    {
     "data": {
      "text/plain": [
       "['fellow',\n",
       " 'citizens',\n",
       " 'senate',\n",
       " 'house',\n",
       " 'representatives',\n",
       " 'among',\n",
       " 'vicissitudes',\n",
       " 'incident',\n",
       " 'life',\n",
       " 'event']"
      ]
     },
     "execution_count": 30,
     "metadata": {},
     "output_type": "execute_result"
    }
   ],
   "source": [
    "tokens_cleared[:10]"
   ]
  },
  {
   "cell_type": "code",
   "execution_count": 31,
   "metadata": {},
   "outputs": [
    {
     "data": {
      "text/plain": [
       "[(('fellow', 'citizens'), 3),\n",
       " (('house', 'representatives'), 2),\n",
       " (('united', 'states'), 2),\n",
       " (('good', 'assure'), 2),\n",
       " (('free', 'government'), 2),\n",
       " (('executive', 'department'), 2),\n",
       " (('american', 'people'), 2),\n",
       " (('public', 'good'), 2),\n",
       " (('citizens', 'senate'), 1),\n",
       " (('senate', 'house'), 1)]"
      ]
     },
     "execution_count": 31,
     "metadata": {},
     "output_type": "execute_result"
    }
   ],
   "source": [
    "nltk.FreqDist(nltk.bigrams(tokens_cleared)).most_common(10)"
   ]
  },
  {
   "cell_type": "code",
   "execution_count": 32,
   "metadata": {},
   "outputs": [
    {
     "data": {
      "text/plain": [
       "[(('fellow', 'citizens', 'senate'), 1),\n",
       " (('citizens', 'senate', 'house'), 1),\n",
       " (('senate', 'house', 'representatives'), 1),\n",
       " (('house', 'representatives', 'among'), 1),\n",
       " (('representatives', 'among', 'vicissitudes'), 1),\n",
       " (('among', 'vicissitudes', 'incident'), 1),\n",
       " (('vicissitudes', 'incident', 'life'), 1),\n",
       " (('incident', 'life', 'event'), 1),\n",
       " (('life', 'event', 'could'), 1),\n",
       " (('event', 'could', 'filled'), 1)]"
      ]
     },
     "execution_count": 32,
     "metadata": {},
     "output_type": "execute_result"
    }
   ],
   "source": [
    "nltk.FreqDist(nltk.trigrams(tokens_cleared)).most_common(10)"
   ]
  },
  {
   "cell_type": "markdown",
   "metadata": {},
   "source": [
    "## WordNet"
   ]
  },
  {
   "cell_type": "markdown",
   "metadata": {},
   "source": [
    "* Lexical database\n",
    "* Contains synsets\n",
    "  * nouns, verbs, adjectives, adverbs\n",
    "* Relationships between synsets\n",
    "  * antonyms, hyperonyms, hyponyms, holonyms, meronyms\n"
   ]
  },
  {
   "cell_type": "code",
   "execution_count": 33,
   "metadata": {},
   "outputs": [],
   "source": [
    "from nltk.corpus import wordnet as wn"
   ]
  },
  {
   "cell_type": "code",
   "execution_count": 34,
   "metadata": {},
   "outputs": [
    {
     "data": {
      "text/plain": [
       "[Synset('car.n.01'),\n",
       " Synset('car.n.02'),\n",
       " Synset('car.n.03'),\n",
       " Synset('car.n.04'),\n",
       " Synset('cable_car.n.01')]"
      ]
     },
     "execution_count": 34,
     "metadata": {},
     "output_type": "execute_result"
    }
   ],
   "source": [
    "wn.synsets('car')"
   ]
  },
  {
   "cell_type": "code",
   "execution_count": 35,
   "metadata": {},
   "outputs": [],
   "source": [
    "car = wn.synset('car.n.01')"
   ]
  },
  {
   "cell_type": "code",
   "execution_count": 36,
   "metadata": {},
   "outputs": [
    {
     "data": {
      "text/plain": [
       "['car', 'auto', 'automobile', 'machine', 'motorcar']"
      ]
     },
     "execution_count": 36,
     "metadata": {},
     "output_type": "execute_result"
    }
   ],
   "source": [
    "car.lemma_names()"
   ]
  },
  {
   "cell_type": "code",
   "execution_count": 37,
   "metadata": {},
   "outputs": [
    {
     "data": {
      "text/plain": [
       "'a motor vehicle with four wheels; usually propelled by an internal combustion engine'"
      ]
     },
     "execution_count": 37,
     "metadata": {},
     "output_type": "execute_result"
    }
   ],
   "source": [
    "car.definition()"
   ]
  },
  {
   "cell_type": "code",
   "execution_count": 38,
   "metadata": {},
   "outputs": [
    {
     "data": {
      "text/plain": [
       "['he needs a car to get to work']"
      ]
     },
     "execution_count": 38,
     "metadata": {},
     "output_type": "execute_result"
    }
   ],
   "source": [
    "car.examples()"
   ]
  },
  {
   "cell_type": "code",
   "execution_count": 39,
   "metadata": {},
   "outputs": [
    {
     "data": {
      "text/plain": [
       "[Synset('ambulance.n.01'),\n",
       " Synset('beach_wagon.n.01'),\n",
       " Synset('bus.n.04'),\n",
       " Synset('cab.n.03'),\n",
       " Synset('compact.n.03'),\n",
       " Synset('convertible.n.01'),\n",
       " Synset('coupe.n.01'),\n",
       " Synset('cruiser.n.01'),\n",
       " Synset('electric.n.01'),\n",
       " Synset('gas_guzzler.n.01'),\n",
       " Synset('hardtop.n.01'),\n",
       " Synset('hatchback.n.01'),\n",
       " Synset('horseless_carriage.n.01'),\n",
       " Synset('hot_rod.n.01'),\n",
       " Synset('jeep.n.01'),\n",
       " Synset('limousine.n.01'),\n",
       " Synset('loaner.n.02'),\n",
       " Synset('minicar.n.01'),\n",
       " Synset('minivan.n.01'),\n",
       " Synset('model_t.n.01'),\n",
       " Synset('pace_car.n.01'),\n",
       " Synset('racer.n.02'),\n",
       " Synset('roadster.n.01'),\n",
       " Synset('sedan.n.01'),\n",
       " Synset('sport_utility.n.01'),\n",
       " Synset('sports_car.n.01'),\n",
       " Synset('stanley_steamer.n.01'),\n",
       " Synset('stock_car.n.01'),\n",
       " Synset('subcompact.n.01'),\n",
       " Synset('touring_car.n.01'),\n",
       " Synset('used-car.n.01')]"
      ]
     },
     "execution_count": 39,
     "metadata": {},
     "output_type": "execute_result"
    }
   ],
   "source": [
    "car.hyponyms()"
   ]
  },
  {
   "cell_type": "code",
   "execution_count": 40,
   "metadata": {},
   "outputs": [
    {
     "data": {
      "text/plain": [
       "[Synset('motor_vehicle.n.01')]"
      ]
     },
     "execution_count": 40,
     "metadata": {},
     "output_type": "execute_result"
    }
   ],
   "source": [
    "car.hypernyms()"
   ]
  },
  {
   "cell_type": "code",
   "execution_count": 41,
   "metadata": {},
   "outputs": [
    {
     "data": {
      "text/plain": [
       "[Synset('accelerator.n.01'),\n",
       " Synset('air_bag.n.01'),\n",
       " Synset('auto_accessory.n.01'),\n",
       " Synset('automobile_engine.n.01'),\n",
       " Synset('automobile_horn.n.01'),\n",
       " Synset('buffer.n.06'),\n",
       " Synset('bumper.n.02'),\n",
       " Synset('car_door.n.01'),\n",
       " Synset('car_mirror.n.01'),\n",
       " Synset('car_seat.n.01'),\n",
       " Synset('car_window.n.01'),\n",
       " Synset('fender.n.01'),\n",
       " Synset('first_gear.n.01'),\n",
       " Synset('floorboard.n.02'),\n",
       " Synset('gasoline_engine.n.01'),\n",
       " Synset('glove_compartment.n.01'),\n",
       " Synset('grille.n.02'),\n",
       " Synset('high_gear.n.01'),\n",
       " Synset('hood.n.09'),\n",
       " Synset('luggage_compartment.n.01'),\n",
       " Synset('rear_window.n.01'),\n",
       " Synset('reverse.n.02'),\n",
       " Synset('roof.n.02'),\n",
       " Synset('running_board.n.01'),\n",
       " Synset('stabilizer_bar.n.01'),\n",
       " Synset('sunroof.n.01'),\n",
       " Synset('tail_fin.n.02'),\n",
       " Synset('third_gear.n.01'),\n",
       " Synset('window.n.02')]"
      ]
     },
     "execution_count": 41,
     "metadata": {},
     "output_type": "execute_result"
    }
   ],
   "source": [
    "car.part_meronyms()"
   ]
  },
  {
   "cell_type": "code",
   "execution_count": 42,
   "metadata": {},
   "outputs": [
    {
     "data": {
      "text/plain": [
       "[Lemma('white.n.02.white')]"
      ]
     },
     "execution_count": 42,
     "metadata": {},
     "output_type": "execute_result"
    }
   ],
   "source": [
    "wn.synsets('black')[0].lemmas()[0].antonyms()"
   ]
  },
  {
   "cell_type": "markdown",
   "metadata": {},
   "source": [
    "# Text representation"
   ]
  },
  {
   "cell_type": "markdown",
   "metadata": {},
   "source": [
    "Textual document is usually represented as a *bag-of-words* = by a vector. Elements of the vector represent individual words or n-grams from a dictionary (for the whole corpus/language). The value of a vector element can be:\n",
    "\n",
    "* quantity\n",
    "* frequency\n",
    "* weighted frequency"
   ]
  },
  {
   "cell_type": "markdown",
   "metadata": {},
   "source": [
    "Highly frequented words (conjuctions, etc.) are considered *stop words*. They are usually removed during preprocessing."
   ]
  },
  {
   "cell_type": "markdown",
   "metadata": {},
   "source": [
    "## TF-IDF"
   ]
  },
  {
   "cell_type": "markdown",
   "metadata": {},
   "source": [
    "Term frequency * inverse document frequency\n",
    "\n",
    "`TF` – frequency of a word in a document\n",
    "\n",
    "`IDF` – negative logarithm of the probability of a word occurring in a document (it is the same for every document)"
   ]
  },
  {
   "cell_type": "markdown",
   "metadata": {},
   "source": [
    "Various variants (weighting schemes): https://en.wikipedia.org/wiki/Tf%E2%80%93idf"
   ]
  },
  {
   "cell_type": "markdown",
   "metadata": {},
   "source": [
    "## Gensim"
   ]
  },
  {
   "cell_type": "markdown",
   "metadata": {},
   "source": [
    "Document topic modelling library.\n",
    "\n",
    "It implements TF-IDF, LSA, pLSA, LDA, HDP, DTM, word2vec"
   ]
  },
  {
   "cell_type": "markdown",
   "metadata": {},
   "source": [
    "https://radimrehurek.com/gensim/tutorial.html"
   ]
  },
  {
   "cell_type": "code",
   "execution_count": 43,
   "metadata": {},
   "outputs": [
    {
     "name": "stderr",
     "output_type": "stream",
     "text": [
      "C:\\Users\\robom\\Anaconda3\\lib\\site-packages\\gensim\\utils.py:1197: UserWarning: detected Windows; aliasing chunkize to chunkize_serial\n",
      "  warnings.warn(\"detected Windows; aliasing chunkize to chunkize_serial\")\n"
     ]
    }
   ],
   "source": [
    "from gensim import corpora, models, similarities"
   ]
  },
  {
   "cell_type": "code",
   "execution_count": 44,
   "metadata": {},
   "outputs": [],
   "source": [
    "def preprocess_text(text):\n",
    "    tokens = nltk.word_tokenize(text)\n",
    "    stopwords = nltk.corpus.stopwords.words('english')\n",
    "    return [token.lower() for token in tokens if token.isalpha() and token.lower() not in stopwords]"
   ]
  },
  {
   "cell_type": "code",
   "execution_count": 45,
   "metadata": {},
   "outputs": [],
   "source": [
    "tokenized_docs = [preprocess_text(text['text']) for text in texts]"
   ]
  },
  {
   "cell_type": "code",
   "execution_count": 46,
   "metadata": {},
   "outputs": [
    {
     "data": {
      "text/plain": [
       "['proceeding',\n",
       " 'fellow',\n",
       " 'citizens',\n",
       " 'qualification',\n",
       " 'constitution',\n",
       " 'requires',\n",
       " 'entrance',\n",
       " 'charge',\n",
       " 'conferred',\n",
       " 'duty']"
      ]
     },
     "execution_count": 46,
     "metadata": {},
     "output_type": "execute_result"
    }
   ],
   "source": [
    "tokenized_docs[4][:10]"
   ]
  },
  {
   "cell_type": "markdown",
   "metadata": {},
   "source": [
    "Removal of words occurring only once in the whole corpus:"
   ]
  },
  {
   "cell_type": "code",
   "execution_count": 47,
   "metadata": {},
   "outputs": [],
   "source": [
    "from collections import defaultdict\n",
    "\n",
    "frequency = defaultdict(int)\n",
    "for text in tokenized_docs:\n",
    "    for token in text:\n",
    "        frequency[token] += 1\n",
    "\n",
    "tokenized_docs = [[token for token in doc if frequency[token] > 1] for doc in tokenized_docs]"
   ]
  },
  {
   "cell_type": "code",
   "execution_count": 48,
   "metadata": {},
   "outputs": [],
   "source": [
    "dictionary = corpora.Dictionary(tokenized_docs)"
   ]
  },
  {
   "cell_type": "code",
   "execution_count": 49,
   "metadata": {},
   "outputs": [],
   "source": [
    "#print(dictionary.token2id)"
   ]
  },
  {
   "cell_type": "code",
   "execution_count": 50,
   "metadata": {},
   "outputs": [],
   "source": [
    "corpus = [dictionary.doc2bow(doc) for doc in tokenized_docs]"
   ]
  },
  {
   "cell_type": "markdown",
   "metadata": {},
   "source": [
    "TF-IDF model training"
   ]
  },
  {
   "cell_type": "code",
   "execution_count": 51,
   "metadata": {},
   "outputs": [],
   "source": [
    "tfidf_model = models.TfidfModel(corpus)"
   ]
  },
  {
   "cell_type": "code",
   "execution_count": 52,
   "metadata": {},
   "outputs": [],
   "source": [
    "tfidf_corpus = tfidf_model[corpus]"
   ]
  },
  {
   "cell_type": "code",
   "execution_count": 53,
   "metadata": {},
   "outputs": [
    {
     "data": {
      "text/plain": [
       "[(0, 0.028010090497208276),\n",
       " (1, 0.07085344594214385),\n",
       " (2, 0.04749339521031525),\n",
       " (3, 0.015511844798307405),\n",
       " (4, 0.04137634383884512),\n",
       " (5, 0.028010090497208276),\n",
       " (6, 0.05611489489049448),\n",
       " (7, 0.06223194626196463),\n",
       " (8, 0.025148643506526666),\n",
       " (9, 0.03663159017738751)]"
      ]
     },
     "execution_count": 53,
     "metadata": {},
     "output_type": "execute_result"
    }
   ],
   "source": [
    "tfidf_corpus[0][:10]"
   ]
  },
  {
   "cell_type": "markdown",
   "metadata": {},
   "source": [
    "Other models: LSI, LDA, ..."
   ]
  },
  {
   "cell_type": "markdown",
   "metadata": {},
   "source": [
    "We can compute similarity of the resulting vectors:"
   ]
  },
  {
   "cell_type": "code",
   "execution_count": 54,
   "metadata": {},
   "outputs": [],
   "source": [
    "index = similarities.MatrixSimilarity(tfidf_corpus)"
   ]
  },
  {
   "cell_type": "code",
   "execution_count": 55,
   "metadata": {},
   "outputs": [
    {
     "data": {
      "text/plain": [
       "array([0.99999994, 0.05204535, 0.11806069, 0.10361628, 0.08821429,\n",
       "       0.11326972, 0.08443201, 0.13961926, 0.11418307, 0.13363883,\n",
       "       0.12441207, 0.10547448, 0.13012546, 0.16001716, 0.11614959,\n",
       "       0.11807807, 0.12322758, 0.1193403 , 0.09294098, 0.04349447,\n",
       "       0.05975523, 0.06178577, 0.1137971 , 0.0716081 , 0.10576563,\n",
       "       0.09300245, 0.08222347, 0.09069102, 0.06769612, 0.02679328,\n",
       "       0.08959054, 0.06768762, 0.07814044, 0.067146  , 0.08975255,\n",
       "       0.06536622, 0.05937269, 0.04135488, 0.05134605, 0.03186388,\n",
       "       0.04473033, 0.07292005, 0.03711684, 0.0621645 , 0.04236317,\n",
       "       0.04424392, 0.0487093 , 0.0367588 , 0.04386257, 0.04083951,\n",
       "       0.04396403, 0.04307514, 0.04092164, 0.04443119, 0.04516653,\n",
       "       0.06448399], dtype=float32)"
      ]
     },
     "execution_count": 55,
     "metadata": {},
     "output_type": "execute_result"
    }
   ],
   "source": [
    "index[tfidf_corpus[0]]"
   ]
  },
  {
   "cell_type": "markdown",
   "metadata": {},
   "source": [
    "## word2vec"
   ]
  },
  {
   "cell_type": "markdown",
   "metadata": {},
   "source": [
    "Every word is represented by a learned vector of real numbers, which represent its various attributes and linguistic regularities. We can compute similarity of two words as a similarity of two vectors."
   ]
  },
  {
   "cell_type": "markdown",
   "metadata": {},
   "source": [
    "vector('Paris') - vector('France') + vector('Italy') ~= vector('Rome')\n",
    "\n",
    "vector('king') - vector('man') + vector('woman') ~= vector('queen')"
   ]
  },
  {
   "cell_type": "markdown",
   "metadata": {},
   "source": [
    "https://radimrehurek.com/gensim/models/word2vec.html\n",
    "\n",
    "https://medium.com/@mishra.thedeepak/word2vec-in-minutes-gensim-nlp-python-6940f4e00980"
   ]
  },
  {
   "cell_type": "code",
   "execution_count": 56,
   "metadata": {},
   "outputs": [],
   "source": [
    "from nltk.corpus import brown"
   ]
  },
  {
   "cell_type": "code",
   "execution_count": 57,
   "metadata": {},
   "outputs": [],
   "source": [
    "sentences = brown.sents()\n",
    "model = models.Word2Vec(sentences, min_count=1)"
   ]
  },
  {
   "cell_type": "code",
   "execution_count": 58,
   "metadata": {},
   "outputs": [],
   "source": [
    "model.save('brown_model')"
   ]
  },
  {
   "cell_type": "code",
   "execution_count": 59,
   "metadata": {},
   "outputs": [],
   "source": [
    "model = models.Word2Vec.load('brown_model')"
   ]
  },
  {
   "cell_type": "code",
   "execution_count": 60,
   "metadata": {},
   "outputs": [
    {
     "name": "stdout",
     "output_type": "stream",
     "text": [
      "[('father', 0.983797550201416), ('husband', 0.9652765989303589), ('wife', 0.9482831954956055), ('friend', 0.9349343180656433), ('son', 0.9283431768417358), ('nickname', 0.9173043966293335), ('addiction', 0.9100414514541626), ('voice', 0.9026732444763184), ('eagle', 0.9018727540969849), ('patient', 0.9015142917633057)]\n"
     ]
    },
    {
     "name": "stderr",
     "output_type": "stream",
     "text": [
      "C:\\Users\\robom\\Anaconda3\\lib\\site-packages\\ipykernel_launcher.py:1: DeprecationWarning: Call to deprecated `most_similar` (Method will be removed in 4.0.0, use self.wv.most_similar() instead).\n",
      "  \"\"\"Entry point for launching an IPython kernel.\n"
     ]
    }
   ],
   "source": [
    "print(model.most_similar(\"mother\"))"
   ]
  },
  {
   "cell_type": "code",
   "execution_count": 61,
   "metadata": {},
   "outputs": [
    {
     "name": "stdout",
     "output_type": "stream",
     "text": [
      "cereal\n"
     ]
    },
    {
     "name": "stderr",
     "output_type": "stream",
     "text": [
      "C:\\Users\\robom\\Anaconda3\\lib\\site-packages\\ipykernel_launcher.py:1: DeprecationWarning: Call to deprecated `doesnt_match` (Method will be removed in 4.0.0, use self.wv.doesnt_match() instead).\n",
      "  \"\"\"Entry point for launching an IPython kernel.\n"
     ]
    }
   ],
   "source": [
    "print(model.doesnt_match(\"breakfast cereal dinner lunch\".split()))"
   ]
  },
  {
   "cell_type": "code",
   "execution_count": 62,
   "metadata": {},
   "outputs": [
    {
     "name": "stdout",
     "output_type": "stream",
     "text": [
      "garden\n"
     ]
    },
    {
     "name": "stderr",
     "output_type": "stream",
     "text": [
      "C:\\Users\\robom\\Anaconda3\\lib\\site-packages\\ipykernel_launcher.py:1: DeprecationWarning: Call to deprecated `doesnt_match` (Method will be removed in 4.0.0, use self.wv.doesnt_match() instead).\n",
      "  \"\"\"Entry point for launching an IPython kernel.\n"
     ]
    }
   ],
   "source": [
    "print(model.doesnt_match(\"pizza pasta garden fries\".split()))"
   ]
  },
  {
   "cell_type": "code",
   "execution_count": 63,
   "metadata": {},
   "outputs": [
    {
     "name": "stderr",
     "output_type": "stream",
     "text": [
      "C:\\Users\\robom\\Anaconda3\\lib\\site-packages\\ipykernel_launcher.py:1: DeprecationWarning: Call to deprecated `__getitem__` (Method will be removed in 4.0.0, use self.wv.__getitem__() instead).\n",
      "  \"\"\"Entry point for launching an IPython kernel.\n"
     ]
    },
    {
     "data": {
      "text/plain": [
       "array([-0.8135366 ,  0.6528973 , -0.47483113,  0.47198552, -0.08785452,\n",
       "       -0.70041364,  0.12493504, -1.0174628 ,  1.0471177 , -0.7655107 ,\n",
       "       -0.17820309, -0.5500131 , -0.4092928 ,  0.21662371,  0.5159641 ,\n",
       "        0.26561248, -0.8841623 , -0.4778545 ,  0.36615628,  0.61894387,\n",
       "        0.1534522 , -0.74084586, -0.6774946 ,  0.56274354,  0.49430794,\n",
       "        0.8483018 ,  0.29929423,  0.7634831 ,  0.25948367,  0.6223351 ,\n",
       "        0.87610406, -1.2081145 , -0.7178868 , -0.9844823 , -0.44426084,\n",
       "        0.32063907,  0.30343422,  0.48442927,  0.20345375,  0.11175647,\n",
       "       -0.9340193 ,  0.6776855 , -0.1561029 ,  0.09501725, -0.21106303,\n",
       "        0.88437515, -0.28695655, -0.3381198 ,  0.38379723,  0.16765875,\n",
       "        0.30290312, -0.10090964, -0.42345923, -0.3930109 ,  0.56248   ,\n",
       "        0.6217879 , -0.5148457 ,  0.82373375, -0.7499504 , -0.0680961 ,\n",
       "        0.32873398,  0.35864648, -1.0287179 ,  0.04450563,  0.00497323,\n",
       "        0.4962819 ,  0.48879933,  0.08639985,  0.44297102,  0.46188143,\n",
       "       -1.3459623 , -1.4504066 , -0.3882289 , -0.1233518 , -0.12261927,\n",
       "       -0.0642957 , -0.21514457,  1.1809355 ,  0.27008125,  0.20636566,\n",
       "       -0.58604884,  0.19791876, -0.26270446, -0.00293757,  0.2707701 ,\n",
       "        0.11617104,  0.02328602,  0.17473549,  0.05611809,  0.61501974,\n",
       "        0.8412199 , -0.48984122,  0.14770922,  0.23508018, -0.00756758,\n",
       "       -0.28911176, -0.9588797 , -0.67936695, -0.29519978, -0.04632695],\n",
       "      dtype=float32)"
      ]
     },
     "execution_count": 63,
     "metadata": {},
     "output_type": "execute_result"
    }
   ],
   "source": [
    "model['human']"
   ]
  },
  {
   "cell_type": "markdown",
   "metadata": {},
   "source": [
    "## Feature extraction using scikit-learn\n",
    "\n",
    "http://scikit-learn.org/stable/modules/feature_extraction.html#text-feature-extraction"
   ]
  },
  {
   "cell_type": "code",
   "execution_count": 64,
   "metadata": {},
   "outputs": [],
   "source": [
    "from sklearn.feature_extraction.text import CountVectorizer\n",
    "from sklearn.feature_extraction.text import TfidfVectorizer"
   ]
  },
  {
   "cell_type": "code",
   "execution_count": 65,
   "metadata": {},
   "outputs": [],
   "source": [
    "docs = [text['text'] for text in texts]"
   ]
  },
  {
   "cell_type": "code",
   "execution_count": 66,
   "metadata": {},
   "outputs": [],
   "source": [
    "vectorizer = CountVectorizer(stop_words='english')\n",
    "tf = vectorizer.fit_transform(docs)"
   ]
  },
  {
   "cell_type": "code",
   "execution_count": 67,
   "metadata": {},
   "outputs": [
    {
     "data": {
      "text/plain": [
       "array([0, 0, 0, 0, 0, 1, 0, 0, 0, 0, 0, 0, 0, 0, 0, 0, 0, 0, 0, 0, 0, 0,\n",
       "       0, 0, 0, 0, 0, 0, 0, 0, 0, 0, 0, 0, 0, 0, 0, 0, 0, 0, 0, 0, 0, 0,\n",
       "       0, 0, 0, 0, 0, 0, 0, 0, 0, 0, 0, 0, 0, 0, 0, 0, 0, 0, 0, 0, 0, 0,\n",
       "       0, 0, 0, 0, 0, 0, 0, 0, 0, 0, 0, 0, 0, 0, 0, 0, 0, 0, 0, 0, 0, 0,\n",
       "       0, 0, 0, 0, 0, 0, 0, 0, 0, 0, 0, 0], dtype=int64)"
      ]
     },
     "execution_count": 67,
     "metadata": {},
     "output_type": "execute_result"
    }
   ],
   "source": [
    "tf.toarray()[0][:100]"
   ]
  },
  {
   "cell_type": "code",
   "execution_count": 68,
   "metadata": {},
   "outputs": [
    {
     "data": {
      "text/plain": [
       "['000',\n",
       " '100',\n",
       " '120',\n",
       " '125',\n",
       " '13',\n",
       " '14th',\n",
       " '15th',\n",
       " '16',\n",
       " '1774',\n",
       " '1776',\n",
       " '1778',\n",
       " '1780',\n",
       " '1787',\n",
       " '1789',\n",
       " '1790',\n",
       " '1800',\n",
       " '1801',\n",
       " '1812',\n",
       " '1815',\n",
       " '1816',\n",
       " '1817',\n",
       " '1818',\n",
       " '1826',\n",
       " '1850',\n",
       " '1861',\n",
       " '1868',\n",
       " '1873',\n",
       " '1880',\n",
       " '1886',\n",
       " '1890',\n",
       " '1893',\n",
       " '1896',\n",
       " '1897',\n",
       " '1898',\n",
       " '1899',\n",
       " '18th',\n",
       " '1907',\n",
       " '1917',\n",
       " '1933',\n",
       " '1941',\n",
       " '1945',\n",
       " '1963',\n",
       " '1972',\n",
       " '1980',\n",
       " '1984',\n",
       " '19th',\n",
       " '20',\n",
       " '200',\n",
       " '200th',\n",
       " '20th',\n",
       " '21st',\n",
       " '225',\n",
       " '25',\n",
       " '30',\n",
       " '30th',\n",
       " '3d',\n",
       " '41',\n",
       " '48',\n",
       " '4th',\n",
       " '50',\n",
       " '50th',\n",
       " '60',\n",
       " '67',\n",
       " '6th',\n",
       " 'abandon',\n",
       " 'abandoned',\n",
       " 'abandonment',\n",
       " 'abate',\n",
       " 'abdicated',\n",
       " 'abeyance',\n",
       " 'abhorring',\n",
       " 'abide',\n",
       " 'abiding',\n",
       " 'abilities',\n",
       " 'ability',\n",
       " 'abject',\n",
       " 'able',\n",
       " 'ably',\n",
       " 'abnormal',\n",
       " 'abode',\n",
       " 'abodes',\n",
       " 'abolish',\n",
       " 'abolished',\n",
       " 'abolishing',\n",
       " 'aboriginal',\n",
       " 'aborigines',\n",
       " 'abound',\n",
       " 'abounding',\n",
       " 'abounds',\n",
       " 'abraham',\n",
       " 'abreast',\n",
       " 'abridging',\n",
       " 'abroad',\n",
       " 'absence',\n",
       " 'absent',\n",
       " 'absolute',\n",
       " 'absolutely',\n",
       " 'absorb',\n",
       " 'absorbed',\n",
       " 'absorbing']"
      ]
     },
     "execution_count": 68,
     "metadata": {},
     "output_type": "execute_result"
    }
   ],
   "source": [
    "vectorizer.get_feature_names()[:100]"
   ]
  },
  {
   "cell_type": "code",
   "execution_count": 69,
   "metadata": {},
   "outputs": [],
   "source": [
    "transformer = TfidfVectorizer(stop_words='english')\n",
    "tfidf = transformer.fit_transform(docs)"
   ]
  },
  {
   "cell_type": "code",
   "execution_count": 70,
   "metadata": {},
   "outputs": [
    {
     "data": {
      "text/plain": [
       "array([0.        , 0.        , 0.        , 0.        , 0.        ,\n",
       "       0.05753266, 0.        , 0.        , 0.        , 0.        ,\n",
       "       0.        , 0.        , 0.        , 0.        , 0.        ,\n",
       "       0.        , 0.        , 0.        , 0.        , 0.        ,\n",
       "       0.        , 0.        , 0.        , 0.        , 0.        ,\n",
       "       0.        , 0.        , 0.        , 0.        , 0.        ,\n",
       "       0.        , 0.        , 0.        , 0.        , 0.        ,\n",
       "       0.        , 0.        , 0.        , 0.        , 0.        ,\n",
       "       0.        , 0.        , 0.        , 0.        , 0.        ,\n",
       "       0.        , 0.        , 0.        , 0.        , 0.        ,\n",
       "       0.        , 0.        , 0.        , 0.        , 0.        ,\n",
       "       0.        , 0.        , 0.        , 0.        , 0.        ,\n",
       "       0.        , 0.        , 0.        , 0.        , 0.        ,\n",
       "       0.        , 0.        , 0.        , 0.        , 0.        ,\n",
       "       0.        , 0.        , 0.        , 0.        , 0.        ,\n",
       "       0.        , 0.        , 0.        , 0.        , 0.        ,\n",
       "       0.        , 0.        , 0.        , 0.        , 0.        ,\n",
       "       0.        , 0.        , 0.        , 0.        , 0.        ,\n",
       "       0.        , 0.        , 0.        , 0.        , 0.        ,\n",
       "       0.        , 0.        , 0.        , 0.        , 0.        ])"
      ]
     },
     "execution_count": 70,
     "metadata": {},
     "output_type": "execute_result"
    }
   ],
   "source": [
    "tfidf.toarray()[0][:100]"
   ]
  },
  {
   "cell_type": "markdown",
   "metadata": {},
   "source": [
    "## Exercises\n",
    "\n",
    "1. Print 10 most frequent words from inaugural speeches of the US presidents (for each speech separately).\n",
    "2. Print 10 words with the highest weight according to TF-IDF. Is it different from the previous exercise?\n",
    "3. Which two speeches are the most similar?\n",
    "4. How did the frequency of words `america` and `citizen` change over the years in these speeches? (Hint: If you do not know, how to proceed, have a look here: https://www.nltk.org/book/ch02.html. You can also make the plot for other words  that interest you.\n",
    "5. In order to automatize the preprocessing (but also other analysis steps) and to make it more concise and clear, so called [pipelines](http://scikit-learn.org/stable/modules/generated/sklearn.pipeline.Pipeline.html) are used in Python. Have a look at how the pipelines work: http://zacstewart.com/2014/08/05/pipelines-of-featureunions-of-pipelines.html. Based on this, refactor the texts preprocessing (of the inaugural speeches) using a pipeline; you will need a separate transformer for word tokenization (funcion `preprocess_text` in this notebook), removal of tokens with low count, transformation of the text to vecotrs and weighting of these vectors using TF-IDF."
   ]
  },
  {
   "cell_type": "markdown",
   "metadata": {},
   "source": [
    "### Exercise 1"
   ]
  },
  {
   "cell_type": "code",
   "execution_count": 71,
   "metadata": {},
   "outputs": [
    {
     "data": {
      "text/plain": [
       "[('Washington',\n",
       "  '1789',\n",
       "  [('every', 9),\n",
       "   ('government', 8),\n",
       "   ('public', 6),\n",
       "   ('may', 6),\n",
       "   ('citizens', 5),\n",
       "   ('present', 5),\n",
       "   ('country', 5),\n",
       "   ('one', 4),\n",
       "   ('ought', 4),\n",
       "   ('duty', 4)]),\n",
       " ('Washington',\n",
       "  '1793',\n",
       "  [('shall', 3),\n",
       "   ('oath', 2),\n",
       "   ('fellow', 1),\n",
       "   ('citizens', 1),\n",
       "   ('called', 1),\n",
       "   ('upon', 1),\n",
       "   ('voice', 1),\n",
       "   ('country', 1),\n",
       "   ('execute', 1),\n",
       "   ('functions', 1)]),\n",
       " ('Adams',\n",
       "  '1797',\n",
       "  [('people', 20),\n",
       "   ('government', 16),\n",
       "   ('may', 13),\n",
       "   ('nations', 11),\n",
       "   ('country', 10),\n",
       "   ('nation', 9),\n",
       "   ('states', 9),\n",
       "   ('foreign', 8),\n",
       "   ('constitution', 8),\n",
       "   ('honor', 7)]),\n",
       " ('Jefferson',\n",
       "  '1801',\n",
       "  [('government', 12),\n",
       "   ('us', 10),\n",
       "   ('may', 8),\n",
       "   ('fellow', 7),\n",
       "   ('citizens', 7),\n",
       "   ('let', 7),\n",
       "   ('shall', 6),\n",
       "   ('principle', 6),\n",
       "   ('would', 6),\n",
       "   ('one', 6)]),\n",
       " ('Jefferson',\n",
       "  '1805',\n",
       "  [('public', 14),\n",
       "   ('citizens', 10),\n",
       "   ('may', 10),\n",
       "   ('fellow', 8),\n",
       "   ('state', 8),\n",
       "   ('us', 7),\n",
       "   ('among', 7),\n",
       "   ('shall', 7),\n",
       "   ('constitution', 6),\n",
       "   ('time', 6)]),\n",
       " ('Madison',\n",
       "  '1809',\n",
       "  [('nations', 6),\n",
       "   ('public', 6),\n",
       "   ('well', 5),\n",
       "   ('country', 4),\n",
       "   ('peace', 4),\n",
       "   ('rights', 4),\n",
       "   ('states', 4),\n",
       "   ('confidence', 3),\n",
       "   ('full', 3),\n",
       "   ('improvements', 3)]),\n",
       " ('Madison',\n",
       "  '1813',\n",
       "  [('war', 15),\n",
       "   ('country', 5),\n",
       "   ('united', 5),\n",
       "   ('every', 5),\n",
       "   ('british', 5),\n",
       "   ('nation', 4),\n",
       "   ('without', 4),\n",
       "   ('states', 4),\n",
       "   ('spirit', 4),\n",
       "   ('citizens', 4)]),\n",
       " ('Monroe',\n",
       "  '1817',\n",
       "  [('government', 22),\n",
       "   ('great', 21),\n",
       "   ('states', 21),\n",
       "   ('people', 15),\n",
       "   ('us', 14),\n",
       "   ('every', 14),\n",
       "   ('united', 13),\n",
       "   ('may', 10),\n",
       "   ('union', 10),\n",
       "   ('war', 10)]),\n",
       " ('Monroe',\n",
       "  '1821',\n",
       "  [('great', 29),\n",
       "   ('states', 20),\n",
       "   ('would', 18),\n",
       "   ('united', 16),\n",
       "   ('war', 16),\n",
       "   ('citizens', 15),\n",
       "   ('may', 15),\n",
       "   ('made', 15),\n",
       "   ('government', 13),\n",
       "   ('every', 13)]),\n",
       " ('Adams',\n",
       "  '1825',\n",
       "  [('union', 20),\n",
       "   ('government', 17),\n",
       "   ('upon', 16),\n",
       "   ('country', 10),\n",
       "   ('rights', 10),\n",
       "   ('peace', 9),\n",
       "   ('great', 9),\n",
       "   ('public', 9),\n",
       "   ('constitution', 8),\n",
       "   ('first', 8)]),\n",
       " ('Jackson',\n",
       "  '1829',\n",
       "  [('public', 8),\n",
       "   ('shall', 6),\n",
       "   ('government', 6),\n",
       "   ('power', 5),\n",
       "   ('people', 4),\n",
       "   ('may', 4),\n",
       "   ('national', 4),\n",
       "   ('duties', 3),\n",
       "   ('interests', 3),\n",
       "   ('service', 3)]),\n",
       " ('Jackson',\n",
       "  '1833',\n",
       "  [('government', 13),\n",
       "   ('people', 9),\n",
       "   ('union', 9),\n",
       "   ('states', 8),\n",
       "   ('upon', 5),\n",
       "   ('general', 5),\n",
       "   ('powers', 5),\n",
       "   ('united', 4),\n",
       "   ('liberty', 4),\n",
       "   ('preservation', 4)]),\n",
       " ('VanBuren',\n",
       "  '1837',\n",
       "  [('people', 20),\n",
       "   ('every', 20),\n",
       "   ('institutions', 16),\n",
       "   ('government', 16),\n",
       "   ('country', 15),\n",
       "   ('upon', 13),\n",
       "   ('us', 12),\n",
       "   ('may', 11),\n",
       "   ('never', 8),\n",
       "   ('yet', 8)]),\n",
       " ('Harrison',\n",
       "  '1841',\n",
       "  [('power', 47),\n",
       "   ('people', 38),\n",
       "   ('constitution', 36),\n",
       "   ('government', 36),\n",
       "   ('upon', 34),\n",
       "   ('may', 34),\n",
       "   ('one', 28),\n",
       "   ('citizens', 27),\n",
       "   ('executive', 25),\n",
       "   ('country', 24)]),\n",
       " ('Polk',\n",
       "  '1845',\n",
       "  [('government', 47),\n",
       "   ('states', 36),\n",
       "   ('union', 32),\n",
       "   ('would', 21),\n",
       "   ('one', 19),\n",
       "   ('people', 16),\n",
       "   ('powers', 16),\n",
       "   ('country', 15),\n",
       "   ('constitution', 15),\n",
       "   ('upon', 14)]),\n",
       " ('Taylor',\n",
       "  '1849',\n",
       "  [('shall', 15),\n",
       "   ('government', 7),\n",
       "   ('country', 6),\n",
       "   ('duties', 5),\n",
       "   ('constitution', 4),\n",
       "   ('interests', 4),\n",
       "   ('congress', 4),\n",
       "   ('may', 4),\n",
       "   ('us', 4),\n",
       "   ('people', 3)]),\n",
       " ('Pierce',\n",
       "  '1853',\n",
       "  [('upon', 24),\n",
       "   ('power', 11),\n",
       "   ('government', 10),\n",
       "   ('must', 9),\n",
       "   ('may', 9),\n",
       "   ('us', 9),\n",
       "   ('shall', 9),\n",
       "   ('every', 9),\n",
       "   ('nation', 8),\n",
       "   ('great', 8)]),\n",
       " ('Buchanan',\n",
       "  '1857',\n",
       "  [('states', 22),\n",
       "   ('shall', 18),\n",
       "   ('constitution', 17),\n",
       "   ('may', 15),\n",
       "   ('government', 14),\n",
       "   ('people', 13),\n",
       "   ('great', 11),\n",
       "   ('question', 11),\n",
       "   ('union', 10),\n",
       "   ('free', 9)]),\n",
       " ('Lincoln',\n",
       "  '1861',\n",
       "  [('constitution', 24),\n",
       "   ('people', 20),\n",
       "   ('union', 20),\n",
       "   ('states', 19),\n",
       "   ('government', 18),\n",
       "   ('shall', 17),\n",
       "   ('upon', 15),\n",
       "   ('one', 14),\n",
       "   ('law', 14),\n",
       "   ('may', 13)]),\n",
       " ('Lincoln',\n",
       "  '1865',\n",
       "  [('war', 12),\n",
       "   ('god', 6),\n",
       "   ('shall', 5),\n",
       "   ('years', 4),\n",
       "   ('union', 4),\n",
       "   ('let', 4),\n",
       "   ('nation', 3),\n",
       "   ('one', 3),\n",
       "   ('would', 3),\n",
       "   ('interest', 3)]),\n",
       " ('Grant',\n",
       "  '1869',\n",
       "  [('country', 8),\n",
       "   ('every', 6),\n",
       "   ('without', 5),\n",
       "   ('best', 5),\n",
       "   ('public', 5),\n",
       "   ('laws', 5),\n",
       "   ('us', 5),\n",
       "   ('dollar', 5),\n",
       "   ('may', 5),\n",
       "   ('office', 4)]),\n",
       " ('Grant',\n",
       "  '1873',\n",
       "  [('country', 8),\n",
       "   ('people', 7),\n",
       "   ('best', 6),\n",
       "   ('made', 6),\n",
       "   ('great', 5),\n",
       "   ('office', 5),\n",
       "   ('executive', 4),\n",
       "   ('commerce', 4),\n",
       "   ('government', 4),\n",
       "   ('support', 4)]),\n",
       " ('Hayes',\n",
       "  '1877',\n",
       "  [('country', 20),\n",
       "   ('government', 18),\n",
       "   ('upon', 15),\n",
       "   ('public', 11),\n",
       "   ('states', 11),\n",
       "   ('political', 10),\n",
       "   ('great', 9),\n",
       "   ('people', 9),\n",
       "   ('party', 8),\n",
       "   ('citizens', 7)]),\n",
       " ('Garfield',\n",
       "  '1881',\n",
       "  [('government', 23),\n",
       "   ('people', 21),\n",
       "   ('constitution', 15),\n",
       "   ('states', 15),\n",
       "   ('upon', 13),\n",
       "   ('union', 11),\n",
       "   ('great', 11),\n",
       "   ('law', 10),\n",
       "   ('nation', 9),\n",
       "   ('authority', 9)]),\n",
       " ('Cleveland',\n",
       "  '1885',\n",
       "  [('people', 18),\n",
       "   ('government', 17),\n",
       "   ('public', 11),\n",
       "   ('shall', 10),\n",
       "   ('constitution', 8),\n",
       "   ('interests', 7),\n",
       "   ('citizens', 6),\n",
       "   ('every', 5),\n",
       "   ('citizen', 5),\n",
       "   ('upon', 5)]),\n",
       " ('Harrison',\n",
       "  '1889',\n",
       "  [('people', 29),\n",
       "   ('upon', 21),\n",
       "   ('states', 20),\n",
       "   ('shall', 18),\n",
       "   ('public', 17),\n",
       "   ('laws', 17),\n",
       "   ('may', 12),\n",
       "   ('great', 12),\n",
       "   ('constitution', 11),\n",
       "   ('nation', 10)]),\n",
       " ('Cleveland',\n",
       "  '1893',\n",
       "  [('people', 22),\n",
       "   ('government', 14),\n",
       "   ('us', 10),\n",
       "   ('every', 9),\n",
       "   ('public', 8),\n",
       "   ('american', 8),\n",
       "   ('service', 7),\n",
       "   ('support', 7),\n",
       "   ('national', 6),\n",
       "   ('upon', 6)]),\n",
       " ('McKinley',\n",
       "  '1897',\n",
       "  [('upon', 31),\n",
       "   ('people', 25),\n",
       "   ('must', 23),\n",
       "   ('government', 23),\n",
       "   ('congress', 18),\n",
       "   ('great', 16),\n",
       "   ('country', 14),\n",
       "   ('public', 13),\n",
       "   ('united', 12),\n",
       "   ('states', 12)]),\n",
       " ('McKinley',\n",
       "  '1901',\n",
       "  [('government', 15),\n",
       "   ('people', 12),\n",
       "   ('upon', 11),\n",
       "   ('congress', 9),\n",
       "   ('executive', 9),\n",
       "   ('united', 9),\n",
       "   ('states', 9),\n",
       "   ('us', 8),\n",
       "   ('american', 7),\n",
       "   ('war', 7)]),\n",
       " ('Roosevelt',\n",
       "  '1905',\n",
       "  [('us', 12),\n",
       "   ('people', 6),\n",
       "   ('life', 6),\n",
       "   ('must', 6),\n",
       "   ('great', 5),\n",
       "   ('nation', 5),\n",
       "   ('problems', 5),\n",
       "   ('cause', 4),\n",
       "   ('yet', 4),\n",
       "   ('ever', 4)]),\n",
       " ('Taft',\n",
       "  '1909',\n",
       "  [('government', 26),\n",
       "   ('business', 22),\n",
       "   ('must', 19),\n",
       "   ('may', 18),\n",
       "   ('upon', 16),\n",
       "   ('proper', 15),\n",
       "   ('law', 14),\n",
       "   ('congress', 14),\n",
       "   ('tariff', 13),\n",
       "   ('race', 13)]),\n",
       " ('Wilson',\n",
       "  '1913',\n",
       "  [('great', 14),\n",
       "   ('men', 11),\n",
       "   ('government', 9),\n",
       "   ('upon', 8),\n",
       "   ('life', 8),\n",
       "   ('every', 8),\n",
       "   ('justice', 8),\n",
       "   ('things', 7),\n",
       "   ('nation', 6),\n",
       "   ('shall', 6)]),\n",
       " ('Wilson',\n",
       "  '1917',\n",
       "  [('upon', 13),\n",
       "   ('shall', 9),\n",
       "   ('purpose', 8),\n",
       "   ('us', 8),\n",
       "   ('action', 7),\n",
       "   ('life', 6),\n",
       "   ('people', 6),\n",
       "   ('world', 6),\n",
       "   ('peace', 6),\n",
       "   ('stand', 6)]),\n",
       " ('Harding',\n",
       "  '1921',\n",
       "  [('world', 28),\n",
       "   ('must', 23),\n",
       "   ('america', 15),\n",
       "   ('war', 15),\n",
       "   ('new', 13),\n",
       "   ('civilization', 12),\n",
       "   ('never', 12),\n",
       "   ('government', 11),\n",
       "   ('republic', 10),\n",
       "   ('may', 10)]),\n",
       " ('Coolidge',\n",
       "  '1925',\n",
       "  [('country', 17),\n",
       "   ('must', 17),\n",
       "   ('great', 16),\n",
       "   ('people', 15),\n",
       "   ('government', 14),\n",
       "   ('world', 13),\n",
       "   ('peace', 13),\n",
       "   ('much', 12),\n",
       "   ('upon', 12),\n",
       "   ('one', 10)]),\n",
       " ('Hoover',\n",
       "  '1929',\n",
       "  [('government', 30),\n",
       "   ('upon', 17),\n",
       "   ('progress', 16),\n",
       "   ('people', 15),\n",
       "   ('world', 15),\n",
       "   ('must', 15),\n",
       "   ('peace', 15),\n",
       "   ('justice', 14),\n",
       "   ('nation', 12),\n",
       "   ('system', 11)]),\n",
       " ('Roosevelt',\n",
       "  '1933',\n",
       "  [('national', 9),\n",
       "   ('must', 9),\n",
       "   ('people', 8),\n",
       "   ('may', 8),\n",
       "   ('leadership', 7),\n",
       "   ('helped', 7),\n",
       "   ('shall', 7),\n",
       "   ('nation', 6),\n",
       "   ('us', 6),\n",
       "   ('action', 6)]),\n",
       " ('Roosevelt',\n",
       "  '1937',\n",
       "  [('government', 16),\n",
       "   ('people', 11),\n",
       "   ('nation', 9),\n",
       "   ('men', 8),\n",
       "   ('democracy', 8),\n",
       "   ('good', 8),\n",
       "   ('see', 8),\n",
       "   ('power', 7),\n",
       "   ('progress', 7),\n",
       "   ('purpose', 6)]),\n",
       " ('Roosevelt',\n",
       "  '1941',\n",
       "  [('nation', 12),\n",
       "   ('know', 10),\n",
       "   ('spirit', 9),\n",
       "   ('life', 9),\n",
       "   ('democracy', 9),\n",
       "   ('us', 8),\n",
       "   ('people', 7),\n",
       "   ('america', 7),\n",
       "   ('years', 6),\n",
       "   ('freedom', 6)]),\n",
       " ('Roosevelt',\n",
       "  '1945',\n",
       "  [('shall', 7),\n",
       "   ('peace', 6),\n",
       "   ('learned', 5),\n",
       "   ('today', 4),\n",
       "   ('men', 4),\n",
       "   ('test', 3),\n",
       "   ('way', 3),\n",
       "   ('simple', 2),\n",
       "   ('courage', 2),\n",
       "   ('democracy', 2)]),\n",
       " ('Truman',\n",
       "  '1949',\n",
       "  [('world', 23),\n",
       "   ('nations', 22),\n",
       "   ('peace', 15),\n",
       "   ('freedom', 13),\n",
       "   ('people', 12),\n",
       "   ('free', 11),\n",
       "   ('united', 10),\n",
       "   ('peoples', 9),\n",
       "   ('security', 9),\n",
       "   ('democracy', 9)]),\n",
       " ('Eisenhower',\n",
       "  '1953',\n",
       "  [('free', 21),\n",
       "   ('world', 16),\n",
       "   ('faith', 13),\n",
       "   ('peace', 12),\n",
       "   ('people', 11),\n",
       "   ('us', 11),\n",
       "   ('shall', 11),\n",
       "   ('upon', 10),\n",
       "   ('freedom', 10),\n",
       "   ('must', 10)]),\n",
       " ('Eisenhower',\n",
       "  '1957',\n",
       "  [('world', 16),\n",
       "   ('may', 15),\n",
       "   ('nations', 14),\n",
       "   ('peace', 11),\n",
       "   ('freedom', 11),\n",
       "   ('people', 10),\n",
       "   ('seek', 10),\n",
       "   ('must', 9),\n",
       "   ('justice', 6),\n",
       "   ('upon', 6)]),\n",
       " ('Kennedy',\n",
       "  '1961',\n",
       "  [('let', 16),\n",
       "   ('us', 12),\n",
       "   ('world', 8),\n",
       "   ('sides', 8),\n",
       "   ('new', 7),\n",
       "   ('pledge', 7),\n",
       "   ('citizens', 5),\n",
       "   ('power', 5),\n",
       "   ('shall', 5),\n",
       "   ('free', 5)]),\n",
       " ('Johnson',\n",
       "  '1965',\n",
       "  [('nation', 12),\n",
       "   ('us', 12),\n",
       "   ('change', 12),\n",
       "   ('must', 10),\n",
       "   ('man', 10),\n",
       "   ('people', 9),\n",
       "   ('union', 9),\n",
       "   ('world', 7),\n",
       "   ('old', 7),\n",
       "   ('every', 6)]),\n",
       " ('Nixon',\n",
       "  '1969',\n",
       "  [('us', 20),\n",
       "   ('people', 14),\n",
       "   ('world', 13),\n",
       "   ('peace', 12),\n",
       "   ('let', 11),\n",
       "   ('man', 10),\n",
       "   ('know', 10),\n",
       "   ('make', 9),\n",
       "   ('earth', 9),\n",
       "   ('new', 8)]),\n",
       " ('Nixon',\n",
       "  '1973',\n",
       "  [('us', 26),\n",
       "   ('let', 22),\n",
       "   ('america', 21),\n",
       "   ('peace', 19),\n",
       "   ('world', 18),\n",
       "   ('new', 15),\n",
       "   ('nation', 11),\n",
       "   ('responsibility', 11),\n",
       "   ('government', 10),\n",
       "   ('great', 9)]),\n",
       " ('Carter',\n",
       "  '1977',\n",
       "  [('nation', 13),\n",
       "   ('new', 9),\n",
       "   ('must', 8),\n",
       "   ('us', 8),\n",
       "   ('strength', 7),\n",
       "   ('people', 7),\n",
       "   ('together', 7),\n",
       "   ('spirit', 6),\n",
       "   ('world', 6),\n",
       "   ('dream', 5)]),\n",
       " ('Reagan',\n",
       "  '1981',\n",
       "  [('us', 25),\n",
       "   ('government', 16),\n",
       "   ('must', 10),\n",
       "   ('believe', 10),\n",
       "   ('world', 9),\n",
       "   ('people', 9),\n",
       "   ('americans', 9),\n",
       "   ('one', 8),\n",
       "   ('time', 8),\n",
       "   ('freedom', 8)]),\n",
       " ('Reagan',\n",
       "  '1985',\n",
       "  [('us', 27),\n",
       "   ('government', 18),\n",
       "   ('people', 17),\n",
       "   ('world', 16),\n",
       "   ('one', 14),\n",
       "   ('freedom', 14),\n",
       "   ('must', 12),\n",
       "   ('time', 10),\n",
       "   ('new', 9),\n",
       "   ('history', 9)]),\n",
       " ('Bush',\n",
       "  '1989',\n",
       "  [('new', 14),\n",
       "   ('us', 13),\n",
       "   ('nation', 10),\n",
       "   ('great', 10),\n",
       "   ('world', 10),\n",
       "   ('free', 9),\n",
       "   ('must', 9),\n",
       "   ('friends', 8),\n",
       "   ('things', 8),\n",
       "   ('hand', 8)]),\n",
       " ('Clinton',\n",
       "  '1993',\n",
       "  [('world', 20),\n",
       "   ('america', 19),\n",
       "   ('must', 18),\n",
       "   ('us', 13),\n",
       "   ('people', 12),\n",
       "   ('today', 10),\n",
       "   ('change', 9),\n",
       "   ('new', 9),\n",
       "   ('americans', 9),\n",
       "   ('let', 9)]),\n",
       " ('Clinton',\n",
       "  '1997',\n",
       "  [('new', 29),\n",
       "   ('us', 27),\n",
       "   ('century', 20),\n",
       "   ('america', 15),\n",
       "   ('world', 15),\n",
       "   ('nation', 13),\n",
       "   ('time', 12),\n",
       "   ('land', 11),\n",
       "   ('people', 11),\n",
       "   ('every', 11)]),\n",
       " ('Bush',\n",
       "  '2001',\n",
       "  [('nation', 11),\n",
       "   ('america', 11),\n",
       "   ('us', 11),\n",
       "   ('story', 10),\n",
       "   ('citizens', 9),\n",
       "   ('country', 9),\n",
       "   ('must', 6),\n",
       "   ('every', 6),\n",
       "   ('common', 5),\n",
       "   ('new', 5)]),\n",
       " ('Bush',\n",
       "  '2005',\n",
       "  [('freedom', 27),\n",
       "   ('america', 20),\n",
       "   ('liberty', 15),\n",
       "   ('every', 10),\n",
       "   ('nation', 10),\n",
       "   ('one', 9),\n",
       "   ('country', 8),\n",
       "   ('world', 8),\n",
       "   ('americans', 8),\n",
       "   ('history', 7)]),\n",
       " ('Obama',\n",
       "  '2009',\n",
       "  [('us', 23),\n",
       "   ('nation', 12),\n",
       "   ('new', 11),\n",
       "   ('america', 10),\n",
       "   ('every', 8),\n",
       "   ('must', 8),\n",
       "   ('people', 7),\n",
       "   ('less', 7),\n",
       "   ('world', 7),\n",
       "   ('let', 7)])]"
      ]
     },
     "execution_count": 71,
     "metadata": {},
     "output_type": "execute_result"
    }
   ],
   "source": [
    "[(text['name'], text['year'], nltk.FreqDist(doc).most_common(10)) for text, doc in zip(texts, tokenized_docs)]"
   ]
  },
  {
   "cell_type": "markdown",
   "metadata": {},
   "source": [
    "### Exercise 2"
   ]
  },
  {
   "cell_type": "code",
   "execution_count": 72,
   "metadata": {},
   "outputs": [],
   "source": [
    "sorted_docs = [sorted(doc, key=lambda x: x[1], reverse=True)[:10] for doc in tfidf_corpus]"
   ]
  },
  {
   "cell_type": "code",
   "execution_count": 73,
   "metadata": {},
   "outputs": [
    {
     "data": {
      "text/plain": [
       "[('Washington',\n",
       "  '1789',\n",
       "  [('immutable', 0.1417068918842877),\n",
       "   ('impressions', 0.1417068918842877),\n",
       "   ('providential', 0.1417068918842877),\n",
       "   ('qualifications', 0.12446389252392925),\n",
       "   ('peculiarly', 0.11222978978098896),\n",
       "   ('article', 0.10274028245807375),\n",
       "   ('deliberations', 0.10274028245807375),\n",
       "   ('pecuniary', 0.10274028245807375),\n",
       "   ('rendered', 0.10274028245807375),\n",
       "   ('retreat', 0.10274028245807375)]),\n",
       " ('Washington',\n",
       "  '1793',\n",
       "  [('incurring', 0.29078917480634237),\n",
       "   ('violated', 0.29078917480634237),\n",
       "   ('willingly', 0.29078917480634237),\n",
       "   ('injunctions', 0.25540573305194114),\n",
       "   ('knowingly', 0.25540573305194114),\n",
       "   ('previous', 0.25540573305194114),\n",
       "   ('witnesses', 0.25540573305194114),\n",
       "   ('besides', 0.23030078160031686),\n",
       "   ('reposed', 0.21082786841270343),\n",
       "   ('thereof', 0.21082786841270343)]),\n",
       " ('Adams',\n",
       "  '1797',\n",
       "  [('pleasing', 0.2077367578449058),\n",
       "   ('houses', 0.15580256838367934),\n",
       "   ('legislatures', 0.15580256838367934),\n",
       "   ('virtuous', 0.12963683431719167),\n",
       "   ('amiable', 0.1254745179753182),\n",
       "   ('habitual', 0.1254745179753182),\n",
       "   ('anything', 0.1044351881074418),\n",
       "   ('legislature', 0.1044351881074418),\n",
       "   ('benevolence', 0.1038683789224529),\n",
       "   ('commanded', 0.1038683789224529)]),\n",
       " ('Jefferson',\n",
       "  '1801',\n",
       "  [('thousandth', 0.1625976970359412),\n",
       "   ('retire', 0.13459911606091593),\n",
       "   ('intolerance', 0.11822099611712142),\n",
       "   ('moments', 0.11822099611712142),\n",
       "   ('trusted', 0.10660053508589071),\n",
       "   ('principle', 0.10267575957613712),\n",
       "   ('honest', 0.09630907538557368),\n",
       "   ('error', 0.09022241514209617),\n",
       "   ('indeed', 0.0884859539165524),\n",
       "   ('enough', 0.0839957429250757)]),\n",
       " ('Jefferson',\n",
       "  '1805',\n",
       "  [('whatsoever', 0.15919237545047327),\n",
       "   ('false', 0.1455612427742271),\n",
       "   ('covered', 0.12820447558864756),\n",
       "   ('defamation', 0.12820447558864756),\n",
       "   ('enlighten', 0.12820447558864756),\n",
       "   ('falsehood', 0.12820447558864756),\n",
       "   ('licentiousness', 0.12820447558864756),\n",
       "   ('comforts', 0.12607803751797522),\n",
       "   ('press', 0.1164489942193817),\n",
       "   ('expenses', 0.11541760179390982)]),\n",
       " ('Madison',\n",
       "  '1809',\n",
       "  [('improvements', 0.18250419722771963),\n",
       "   ('belligerent', 0.16781540097173986),\n",
       "   ('rendered', 0.12166946481847975),\n",
       "   ('examples', 0.0979992947376227),\n",
       "   ('ones', 0.0979992947376227),\n",
       "   ('authorities', 0.0979992947376227),\n",
       "   ('avail', 0.0979992947376227),\n",
       "   ('councils', 0.09206754376135821),\n",
       "   ('advancement', 0.08676141170142118),\n",
       "   ('dispositions', 0.08390770048586993)]),\n",
       " ('Madison',\n",
       "  '1813',\n",
       "  [('british', 0.266510859728032),\n",
       "   ('massacre', 0.17762222301823052),\n",
       "   ('savage', 0.14703648727413424),\n",
       "   ('captives', 0.14703648727413424),\n",
       "   ('cruel', 0.14703648727413424),\n",
       "   ('prisoners', 0.14703648727413424),\n",
       "   ('element', 0.09855924306277503),\n",
       "   ('enemy', 0.09855924306277503),\n",
       "   ('render', 0.09175720723228872),\n",
       "   ('reflect', 0.08066773459551205)]),\n",
       " ('Monroe',\n",
       "  '1817',\n",
       "  [('trials', 0.12625569858299046),\n",
       "   ('naval', 0.12288273648795942),\n",
       "   ('put', 0.12256079894383456),\n",
       "   ('invasion', 0.1128397113341579),\n",
       "   ('dangers', 0.10539567376045622),\n",
       "   ('duly', 0.10167915128539859),\n",
       "   ('lakes', 0.10167915128539859),\n",
       "   ('persevere', 0.10167915128539859),\n",
       "   ('situated', 0.10167915128539859),\n",
       "   ('dependent', 0.09999267023788305)]),\n",
       " ('Monroe',\n",
       "  '1821',\n",
       "  [('colonies', 0.12382601269642317),\n",
       "   ('concluded', 0.12382601269642317),\n",
       "   ('occurrences', 0.12382601269642317),\n",
       "   ('preceding', 0.12382601269642317),\n",
       "   ('spain', 0.12382601269642317),\n",
       "   ('fortifications', 0.12258549310436295),\n",
       "   ('coast', 0.11222036690420609),\n",
       "   ('revenue', 0.10474460562965564),\n",
       "   ('term', 0.10190086943786161),\n",
       "   ('satisfied', 0.09806839448349035)]),\n",
       " ('Adams',\n",
       "  '1825',\n",
       "  [('union', 0.1709948023629519),\n",
       "   ('dissensions', 0.13693480362971663),\n",
       "   ('instituted', 0.09928042465814518),\n",
       "   ('performance', 0.09439464876426382),\n",
       "   ('candid', 0.09178803741096159),\n",
       "   ('whatsoever', 0.09128986908647777),\n",
       "   ('contention', 0.09128986908647777),\n",
       "   ('picture', 0.09128986908647777),\n",
       "   ('internal', 0.08440479910135233),\n",
       "   ('allotted', 0.08018165033060595)]),\n",
       " ('Jackson',\n",
       "  '1829',\n",
       "  [('diffidence', 0.14582532502672665),\n",
       "   ('generally', 0.1287557403727279),\n",
       "   ('defending', 0.12037334506395792),\n",
       "   ('worth', 0.12037334506395792),\n",
       "   ('accountability', 0.10360855444641795),\n",
       "   ('militia', 0.09695532843080823),\n",
       "   ('revenue', 0.09362871542300338),\n",
       "   ('gradual', 0.08301384903087676),\n",
       "   ('caution', 0.08301384903087676),\n",
       "   ('equity', 0.08301384903087676)]),\n",
       " ('Jackson',\n",
       "  '1833',\n",
       "  [('inculcate', 0.17565285916413073),\n",
       "   ('proportion', 0.17565285916413073),\n",
       "   ('constitutionally', 0.15427928941083022),\n",
       "   ('union', 0.14805669902935745),\n",
       "   ('preservation', 0.12568406799398044),\n",
       "   ('intentions', 0.11774093058107496),\n",
       "   ('exercise', 0.11395783644978869),\n",
       "   ('impressed', 0.1096150764892657),\n",
       "   ('necessarily', 0.1096150764892657),\n",
       "   ('rest', 0.1096150764892657)]),\n",
       " ('VanBuren',\n",
       "  '1837',\n",
       "  [('institutions', 0.1343678966777602),\n",
       "   ('supposed', 0.13221695701431407),\n",
       "   ('occasionally', 0.10941796295260951),\n",
       "   ('actual', 0.10649482644711492),\n",
       "   ('adherence', 0.09779116105581807),\n",
       "   ('designed', 0.09610390433403386),\n",
       "   ('sources', 0.09104213416868115),\n",
       "   ('evidently', 0.08811899766318655),\n",
       "   ('foreboding', 0.08811899766318655),\n",
       "   ('unequaled', 0.08811899766318655)]),\n",
       " ('Harrison',\n",
       "  '1841',\n",
       "  [('roman', 0.16795957762455463),\n",
       "   ('grant', 0.11520579395115213),\n",
       "   ('executive', 0.10871188695907293),\n",
       "   ('conceive', 0.09931264663972923),\n",
       "   ('operations', 0.09931264663972923),\n",
       "   ('aristocracy', 0.0959769014997455),\n",
       "   ('remark', 0.0959769014997455),\n",
       "   ('constitution', 0.09481200059662867),\n",
       "   ('judiciary', 0.08722821038039277),\n",
       "   ('veto', 0.08722821038039277)]),\n",
       " ('Polk',\n",
       "  '1845',\n",
       "  [('texas', 0.2910262186122503),\n",
       "   ('union', 0.17443853074000376),\n",
       "   ('revenue', 0.14223704726194716),\n",
       "   ('compromises', 0.14062556815607738),\n",
       "   ('majorities', 0.11641048744490011),\n",
       "   ('levying', 0.10546917611705803),\n",
       "   ('reunion', 0.10546917611705803),\n",
       "   ('delegated', 0.10224557327692525),\n",
       "   ('extended', 0.08753049062273671),\n",
       "   ('incidental', 0.08730786558367508)]),\n",
       " ('Taylor',\n",
       "  '1849',\n",
       "  [('purity', 0.1297599948235005),\n",
       "   ('vested', 0.1297599948235005),\n",
       "   ('affections', 0.11996740848276066),\n",
       "   ('conflicting', 0.11168789470371734),\n",
       "   ('army', 0.10451585364357743),\n",
       "   ('imposes', 0.10451585364357743),\n",
       "   ('judicial', 0.10451585364357743),\n",
       "   ('object', 0.10092983311350749),\n",
       "   ('measures', 0.09604556281147955),\n",
       "   ('adopt', 0.09253069658892808)]),\n",
       " ('Pierce',\n",
       "  '1853',\n",
       "  [('hardly', 0.15028683403449697),\n",
       "   ('consult', 0.10335005587595837),\n",
       "   ('preferment', 0.10335005587595837),\n",
       "   ('regarded', 0.10163586070132274),\n",
       "   ('apparent', 0.10163586070132274),\n",
       "   ('counsels', 0.08602051396956532),\n",
       "   ('readily', 0.08555364817175343),\n",
       "   ('experiments', 0.08555364817175343),\n",
       "   ('position', 0.08041106264784662),\n",
       "   ('jurisdiction', 0.08008383466892219)]),\n",
       " ('Buchanan',\n",
       "  '1857',\n",
       "  [('whilst', 0.17317363902915778),\n",
       "   ('territory', 0.14627125478057132),\n",
       "   ('agitation', 0.13412978827353825),\n",
       "   ('question', 0.12313113356820105),\n",
       "   ('slavery', 0.11294400628184888),\n",
       "   ('kansas', 0.11174230944295625),\n",
       "   ('squandering', 0.11174230944295625),\n",
       "   ('speedily', 0.10988891782138177),\n",
       "   ('constitution', 0.10425350014684961),\n",
       "   ('convinced', 0.10059734120515368)]),\n",
       " ('Lincoln',\n",
       "  '1861',\n",
       "  [('clause', 0.17098575266669053),\n",
       "   ('secede', 0.16524262817285384),\n",
       "   ('minority', 0.16250186414077647),\n",
       "   ('case', 0.15912089923404935),\n",
       "   ('lawfully', 0.1367886021333524),\n",
       "   ('surrendered', 0.13541822011731375),\n",
       "   ('union', 0.12810917696212196),\n",
       "   ('plainly', 0.12396803212384862),\n",
       "   ('expressly', 0.12396803212384862),\n",
       "   ('dissatisfied', 0.12393197112964038)]),\n",
       " ('Lincoln',\n",
       "  '1865',\n",
       "  [('offenses', 0.33414902243440786),\n",
       "   ('woe', 0.33414902243440786),\n",
       "   ('offense', 0.1844067243762941),\n",
       "   ('wills', 0.1844067243762941),\n",
       "   ('answered', 0.16196797783274086),\n",
       "   ('slaves', 0.14604743379631632),\n",
       "   ('altogether', 0.12360868725276304),\n",
       "   ('address', 0.11507787173993338),\n",
       "   ('pray', 0.10768814321633854),\n",
       "   ('cease', 0.10768814321633854)]),\n",
       " ('Grant',\n",
       "  '1869',\n",
       "  [('dollar', 0.33154806377414303),\n",
       "   ('paying', 0.19892883826448585),\n",
       "   ('deal', 0.17937524889402992),\n",
       "   ('specie', 0.17937524889402992),\n",
       "   ('advisable', 0.15099204974215183),\n",
       "   ('five', 0.14133847715759348),\n",
       "   ('payments', 0.1326192255096572),\n",
       "   ('debt', 0.11938165946339795),\n",
       "   ('twenty', 0.11061730139608415),\n",
       "   ('desirable', 0.10947220444365884)]),\n",
       " ('Grant',\n",
       "  '1873',\n",
       "  [('domingo', 0.25319009287033384),\n",
       "   ('santo', 0.25319009287033384),\n",
       "   ('transit', 0.25319009287033384),\n",
       "   ('proposition', 0.22132498282931143),\n",
       "   ('extermination', 0.16879339524688924),\n",
       "   ('steam', 0.16879339524688924),\n",
       "   ('telegraph', 0.16879339524688924),\n",
       "   ('returning', 0.12272574389333032),\n",
       "   ('reformation', 0.12272574389333032),\n",
       "   ('extension', 0.12239555924780848)]),\n",
       " ('Hayes',\n",
       "  '1877',\n",
       "  [('behalf', 0.16455675254015334),\n",
       "   ('dispute', 0.142391228603397),\n",
       "   ('complications', 0.11862484041289233),\n",
       "   ('nomination', 0.11862484041289233),\n",
       "   ('reform', 0.11349011290601918),\n",
       "   ('races', 0.10679342145254773),\n",
       "   ('parties', 0.10034165241865195),\n",
       "   ('repeat', 0.098734051524092),\n",
       "   ('furtherance', 0.09819818455923866),\n",
       "   ('emancipated', 0.09819818455923866)]),\n",
       " ('Garfield',\n",
       "  '1881',\n",
       "  [('negro', 0.1658380501178809),\n",
       "   ('incumbents', 0.15025108904445655),\n",
       "   ('notes', 0.15025108904445655),\n",
       "   ('suffrage', 0.12860866695239775),\n",
       "   ('ballot', 0.12437853758841068),\n",
       "   ('voters', 0.12437853758841068),\n",
       "   ('concerning', 0.1111620183101326),\n",
       "   ('jurisdiction', 0.10349020582418343),\n",
       "   ('compulsory', 0.10016739269630437),\n",
       "   ('decree', 0.10016739269630437)]),\n",
       " ('Cleveland',\n",
       "  '1885',\n",
       "  [('partisan', 0.20325357592545237),\n",
       "   ('extravagance', 0.14168509324977105),\n",
       "   ('commended', 0.1302816104868043),\n",
       "   ('strife', 0.12195214555527142),\n",
       "   ('appreciation', 0.11442884781295501),\n",
       "   ('application', 0.10721341252356803),\n",
       "   ('claims', 0.08732837102289467),\n",
       "   ('amity', 0.08732837102289467),\n",
       "   ('needs', 0.08452245258585624),\n",
       "   ('citizen', 0.08281854360693511)]),\n",
       " ('Harrison',\n",
       "  '1889',\n",
       "  [('ballot', 0.19326127796493986),\n",
       "   ('methods', 0.12585234237665593),\n",
       "   ('european', 0.1206035009469751),\n",
       "   ('friendly', 0.11012079957957396),\n",
       "   ('ships', 0.09663063898246993),\n",
       "   ('list', 0.09663063898246993),\n",
       "   ('cotton', 0.09663063898246993),\n",
       "   ('electors', 0.09663063898246993),\n",
       "   ('laws', 0.0919603951009793),\n",
       "   ('offices', 0.08835646720236301)]),\n",
       " ('Cleveland',\n",
       "  '1893',\n",
       "  [('frugality', 0.19879565110356276),\n",
       "   ('aggregations', 0.13253043406904183),\n",
       "   ('activity', 0.11931209729396665),\n",
       "   ('governmental', 0.11931209729396665),\n",
       "   ('taxing', 0.10970929848360304),\n",
       "   ('kindred', 0.10970929848360304),\n",
       "   ('related', 0.10970929848360304),\n",
       "   ('combinations', 0.1026951101344745),\n",
       "   ('paternalism', 0.09635978994224823),\n",
       "   ('dependence', 0.08688816289816427)]),\n",
       " ('McKinley',\n",
       "  '1897',\n",
       "  [('loans', 0.21109439779460182),\n",
       "   ('revenue', 0.1587244982151488),\n",
       "   ('revision', 0.14072959852973455),\n",
       "   ('congress', 0.13173214868702743),\n",
       "   ('legislation', 0.1190433736613616),\n",
       "   ('session', 0.11791463265984538),\n",
       "   ('marine', 0.10554719889730091),\n",
       "   ('merchant', 0.10554719889730091),\n",
       "   ('revival', 0.10554719889730091),\n",
       "   ('convene', 0.10554719889730091)]),\n",
       " ('McKinley',\n",
       "  '1901',\n",
       "  [('cuba', 0.3052270492872763),\n",
       "   ('islands', 0.2564653244616461),\n",
       "   ('inhabitants', 0.16936476995308564),\n",
       "   ('instructions', 0.12209081971491052),\n",
       "   ('philippine', 0.12209081971491052),\n",
       "   ('preparation', 0.12006578458310763),\n",
       "   ('spain', 0.10106733805182445),\n",
       "   ('advised', 0.10106733805182445),\n",
       "   ('permanence', 0.10106733805182445),\n",
       "   ('fast', 0.10106733805182445)]),\n",
       " ('Roosevelt',\n",
       "  '1905',\n",
       "  [('regards', 0.273961997413968),\n",
       "   ('aright', 0.220633394723125),\n",
       "   ('tasks', 0.17096428401215844),\n",
       "   ('problems', 0.16335562120744185),\n",
       "   ('faced', 0.144649268495499),\n",
       "   ('show', 0.11397618934143895),\n",
       "   ('heritage', 0.11397618934143895),\n",
       "   ('conditions', 0.10830384095400561),\n",
       "   ('greatness', 0.10020140400227494),\n",
       "   ('perils', 0.10020140400227494)]),\n",
       " ('Taft',\n",
       "  '1909',\n",
       "  [('interstate', 0.2874778196567138),\n",
       "   ('negro', 0.19470718783206364),\n",
       "   ('business', 0.16211331655698685),\n",
       "   ('tariff', 0.15429703089327418),\n",
       "   ('canal', 0.13301172366273803),\n",
       "   ('type', 0.1306717362075972),\n",
       "   ('south', 0.12001493146325412),\n",
       "   ('employees', 0.1199374170481296),\n",
       "   ('bill', 0.11601167639026833),\n",
       "   ('railroads', 0.11401004885377544)]),\n",
       " ('Wilson',\n",
       "  '1913',\n",
       "  [('familiar', 0.21788160732720402),\n",
       "   ('stirred', 0.21788160732720402),\n",
       "   ('studied', 0.21788160732720402),\n",
       "   ('inconceivable', 0.1452544048848027),\n",
       "   ('safeguarding', 0.1452544048848027),\n",
       "   ('sweep', 0.1452544048848027),\n",
       "   ('intimate', 0.12024225962516051),\n",
       "   ('interpret', 0.12024225962516051),\n",
       "   ('comprehend', 0.10561109258567944),\n",
       "   ('haste', 0.10561109258567944)]),\n",
       " ('Wilson',\n",
       "  '1917',\n",
       "  [('wished', 0.3377527948577803),\n",
       "   ('counsel', 0.1806889428487491),\n",
       "   ('singular', 0.13979665291603788),\n",
       "   ('politics', 0.13085885030783515),\n",
       "   ('currents', 0.12278609284546754),\n",
       "   ('despite', 0.12278609284546754),\n",
       "   ('drawn', 0.11504368239306735),\n",
       "   ('thought', 0.10287232238783534),\n",
       "   ('action', 0.1017791057949829),\n",
       "   ('processes', 0.10135532165235188)]),\n",
       " ('Harding',\n",
       "  '1921',\n",
       "  [('relationship', 0.156828484594205),\n",
       "   ('civilization', 0.13241246101343807),\n",
       "   ('amid', 0.125462787675364),\n",
       "   ('normal', 0.125462787675364),\n",
       "   ('understanding', 0.11556202294009775),\n",
       "   ('unshaken', 0.1071331291032618),\n",
       "   ('america', 0.10578519906486637),\n",
       "   ('activities', 0.1035648329997875),\n",
       "   ('wrought', 0.094097090756523),\n",
       "   ('proven', 0.094097090756523)]),\n",
       " ('Coolidge',\n",
       "  '1925',\n",
       "  [('represents', 0.17818194600050036),\n",
       "   ('tax', 0.13806952868624725),\n",
       "   ('stands', 0.13367534424938818),\n",
       "   ('array', 0.13363645950037528),\n",
       "   ('property', 0.10738741120041453),\n",
       "   ('unless', 0.10115241835621108),\n",
       "   ('ought', 0.09768678029939795),\n",
       "   ('save', 0.09004907330408292),\n",
       "   ('deliverance', 0.08909097300025018),\n",
       "   ('experiences', 0.08909097300025018)]),\n",
       " ('Hoover',\n",
       "  '1929',\n",
       "  [('enforcement', 0.24999068046671152),\n",
       "   ('eighteenth', 0.20826496734340658),\n",
       "   ('ideals', 0.1347229991414816),\n",
       "   ('criminals', 0.12495898040604393),\n",
       "   ('liquor', 0.12495898040604393),\n",
       "   ('criminal', 0.10923233164142672),\n",
       "   ('amendment', 0.1075868291874347),\n",
       "   ('controversies', 0.1075868291874347),\n",
       "   ('mandates', 0.10344161456855698),\n",
       "   ('officials', 0.10344161456855698)]),\n",
       " ('Roosevelt',\n",
       "  '1933',\n",
       "  [('helped', 0.2425650919195022),\n",
       "   ('leadership', 0.19853213000667552),\n",
       "   ('stricken', 0.18734903356953445),\n",
       "   ('emergency', 0.13860862395400125),\n",
       "   ('recovery', 0.136217116071912),\n",
       "   ('discipline', 0.12904259242564411),\n",
       "   ('respects', 0.12904259242564411),\n",
       "   ('changers', 0.12489935571302296),\n",
       "   ('critical', 0.12489935571302296),\n",
       "   ('languishes', 0.12489935571302296)]),\n",
       " ('Roosevelt',\n",
       "  '1937',\n",
       "  [('democracy', 0.16899362722669392),\n",
       "   ('paint', 0.1685638088560342),\n",
       "   ('millions', 0.140254931528032),\n",
       "   ('aught', 0.13575169449202815),\n",
       "   ('epidemics', 0.13575169449202815),\n",
       "   ('opportunism', 0.13575169449202815),\n",
       "   ('ruthless', 0.13575169449202815),\n",
       "   ('timidity', 0.13575169449202815),\n",
       "   ('road', 0.12330418430862689),\n",
       "   ('despair', 0.122212075247682)]),\n",
       " ('Roosevelt',\n",
       "  '1941',\n",
       "  [('speaks', 0.32554561909254526),\n",
       "   ('democracy', 0.25082407151132335),\n",
       "   ('disruption', 0.14825844479926267),\n",
       "   ('stock', 0.14825844479926267),\n",
       "   ('measured', 0.13021824763701811),\n",
       "   ('three', 0.1298679049577032),\n",
       "   ('something', 0.12335968298825446),\n",
       "   ('body', 0.1202315442311378),\n",
       "   ('know', 0.11764825344178922),\n",
       "   ('america', 0.10247515833047764)]),\n",
       " ('Roosevelt',\n",
       "  '1945',\n",
       "  [('learned', 0.3673341729257257),\n",
       "   ('trend', 0.2516113271435099),\n",
       "   ('test', 0.23552473043974417),\n",
       "   ('mistakes', 0.22099507485468572),\n",
       "   ('upward', 0.19927249815690007),\n",
       "   ('gain', 0.18242315865260533),\n",
       "   ('valleys', 0.12580566357175496),\n",
       "   ('heights', 0.12580566357175496),\n",
       "   ('blows', 0.12580566357175496),\n",
       "   ('dr', 0.12580566357175496)]),\n",
       " ('Truman',\n",
       "  '1949',\n",
       "  [('program', 0.2029802363818294),\n",
       "   ('recovery', 0.18997912547053233),\n",
       "   ('communism', 0.1881847846745856),\n",
       "   ('philosophy', 0.17303878802053949),\n",
       "   ('major', 0.17303878802053949),\n",
       "   ('peoples', 0.1706345034498439),\n",
       "   ('aided', 0.156820653895488),\n",
       "   ('technical', 0.15677503641979712),\n",
       "   ('democracy', 0.14637376440668143),\n",
       "   ('agreement', 0.13704419414801616)]),\n",
       " ('Eisenhower',\n",
       "  '1953',\n",
       "  [('productivity', 0.20052138625960073),\n",
       "   ('peoples', 0.15379407958709596),\n",
       "   ('soldier', 0.15039103969470055),\n",
       "   ('korea', 0.12111638087396379),\n",
       "   ('precepts', 0.12111638087396379),\n",
       "   ('stamina', 0.12111638087396379),\n",
       "   ('hold', 0.10244918138190835),\n",
       "   ('mountains', 0.10080781519282739),\n",
       "   ('spiritual', 0.10080781519282739),\n",
       "   ('defines', 0.10026069312980036)]),\n",
       " ('Eisenhower',\n",
       "  '1957',\n",
       "  [('strives', 0.24381853888036306),\n",
       "   ('skills', 0.1625456925869087),\n",
       "   ('peoples', 0.14742942167255935),\n",
       "   ('divided', 0.1314349904965601),\n",
       "   ('mr', 0.1314349904965601),\n",
       "   ('seek', 0.11939795249449758),\n",
       "   ('help', 0.11881911133919437),\n",
       "   ('honorably', 0.10656644049417896),\n",
       "   ('freedom', 0.10438438481156911),\n",
       "   ('fate', 0.10434925118714727)]),\n",
       " ('Kennedy',\n",
       "  '1961',\n",
       "  [('sides', 0.2897122631308954),\n",
       "   ('let', 0.14003880326474857),\n",
       "   ('pledge', 0.13600721633812277),\n",
       "   ('explore', 0.13201769488322931),\n",
       "   ('forebears', 0.13201769488322931),\n",
       "   ('dare', 0.12357723459291808),\n",
       "   ('final', 0.12357723459291808),\n",
       "   ('begin', 0.12357723459291808),\n",
       "   ('finished', 0.11595368417663417),\n",
       "   ('deeds', 0.11595368417663417)]),\n",
       " ('Johnson',\n",
       "  '1965',\n",
       "  [('covenant', 0.307679027814387),\n",
       "   ('mastery', 0.234651267503338),\n",
       "   ('change', 0.19756735030167097),\n",
       "   ('harvest', 0.15643417833555867),\n",
       "   ('mars', 0.15643417833555867),\n",
       "   ('rocket', 0.15643417833555867),\n",
       "   ('shoulder', 0.15643417833555867),\n",
       "   ('trying', 0.13020359117156224),\n",
       "   ('span', 0.12949692713684383),\n",
       "   ('dominion', 0.11373964531308967)]),\n",
       " ('Nixon',\n",
       "  '1969',\n",
       "  [('voices', 0.24360201721568733),\n",
       "   ('rhetoric', 0.1768354217125854),\n",
       "   ('brothers', 0.14638516956062447),\n",
       "   ('moon', 0.14638516956062447),\n",
       "   ('heard', 0.12180100860784367),\n",
       "   ('celebrate', 0.12180100860784367),\n",
       "   ('third', 0.12180100860784367),\n",
       "   ('adventure', 0.1178902811417236),\n",
       "   ('angry', 0.1178902811417236),\n",
       "   ('catch', 0.1178902811417236)]),\n",
       " ('Nixon',\n",
       "  '1973',\n",
       "  [('role', 0.27305382633442365),\n",
       "   ('america', 0.2413394920375994),\n",
       "   ('policies', 0.22348622928247297),\n",
       "   ('let', 0.16975670043053986),\n",
       "   ('abroad', 0.1665570357644583),\n",
       "   ('ashamed', 0.15333865421995393),\n",
       "   ('gladly', 0.15333865421995393),\n",
       "   ('era', 0.1421103502597486),\n",
       "   ('initiatives', 0.1405983305935177),\n",
       "   ('shift', 0.1405983305935177)]),\n",
       " ('Carter',\n",
       "  '1977',\n",
       "  [('micah', 0.27811443839106365),\n",
       "   ('dream', 0.21051102467254876),\n",
       "   ('thee', 0.15348293468527496),\n",
       "   ('enhance', 0.13480701773153098),\n",
       "   ('mistakes', 0.13480701773153098),\n",
       "   ('built', 0.12630661480352928),\n",
       "   ('bible', 0.12155624377650752),\n",
       "   ('together', 0.11174341818068609),\n",
       "   ('remembered', 0.11127814499619035),\n",
       "   ('basic', 0.11127814499619035)]),\n",
       " ('Reagan',\n",
       "  '1981',\n",
       "  [('heroes', 0.16266045061962517),\n",
       "   ('weapon', 0.14559986786203744),\n",
       "   ('productivity', 0.14559986786203744),\n",
       "   ('americans', 0.14169065628555222),\n",
       "   ('dreams', 0.13012836049570012),\n",
       "   ('going', 0.1278831683068498),\n",
       "   ('crosses', 0.1172578438647414),\n",
       "   ('markers', 0.1172578438647414),\n",
       "   ('memorial', 0.1172578438647414),\n",
       "   ('monument', 0.1172578438647414)]),\n",
       " ('Reagan',\n",
       "  '1985',\n",
       "  [('nuclear', 0.19333910425536513),\n",
       "   ('weapons', 0.16641213301184166),\n",
       "   ('song', 0.13333369778743026),\n",
       "   ('senator', 0.12889273617024344),\n",
       "   ('budget', 0.11710955487460555),\n",
       "   ('reduce', 0.11489032770951496),\n",
       "   ('tax', 0.11094142200789443),\n",
       "   ('echoes', 0.1073793688596026),\n",
       "   ('infirm', 0.1073793688596026),\n",
       "   ('kill', 0.1073793688596026)]),\n",
       " ('Bush',\n",
       "  '1989',\n",
       "  [('breeze', 0.2799350214402934),\n",
       "   ('door', 0.1853851911913775),\n",
       "   ('blowing', 0.16796101286417603),\n",
       "   ('crucial', 0.16796101286417603),\n",
       "   ('engagement', 0.16796101286417603),\n",
       "   ('word', 0.1553306976519783),\n",
       "   ('mr', 0.13581383657885723),\n",
       "   ('friends', 0.12027185551394583),\n",
       "   ('vow', 0.11197400857611736),\n",
       "   ('watching', 0.11011677392289025)]),\n",
       " ('Clinton',\n",
       "  '1993',\n",
       "  [('america', 0.22795870772277116),\n",
       "   ('americans', 0.17736705605011915),\n",
       "   ('season', 0.17618999611964678),\n",
       "   ('renewal', 0.17618999611964678),\n",
       "   ('capitol', 0.1600829700106392),\n",
       "   ('idea', 0.15704939622499564),\n",
       "   ('sake', 0.1443477116735383),\n",
       "   ('today', 0.13988773481235844),\n",
       "   ('change', 0.1390331758392781),\n",
       "   ('spring', 0.13214249708973508)]),\n",
       " ('Clinton',\n",
       "  '1997',\n",
       "  [('century', 0.2869741333380345),\n",
       "   ('promise', 0.1660017776809077),\n",
       "   ('america', 0.1515919484457041),\n",
       "   ('yes', 0.13721007271579547),\n",
       "   ('streets', 0.13484269497953885),\n",
       "   ('enough', 0.12774056177076898),\n",
       "   ('journey', 0.12774056177076898),\n",
       "   ('bridge', 0.12363913002431312),\n",
       "   ('americans', 0.11620124437663538),\n",
       "   ('dream', 0.11230225989681068)]),\n",
       " ('Bush',\n",
       "  '2001',\n",
       "  [('story', 0.4163106941210115),\n",
       "   ('civility', 0.201734502767344),\n",
       "   ('affirm', 0.17226182304731325),\n",
       "   ('directs', 0.13872986457568148),\n",
       "   ('rides', 0.13872986457568148),\n",
       "   ('stakes', 0.13872986457568148),\n",
       "   ('whirlwind', 0.13872986457568148),\n",
       "   ('everyone', 0.12489320823630344),\n",
       "   ('compassion', 0.12489320823630344),\n",
       "   ('america', 0.12473593390674274)]),\n",
       " ('Bush',\n",
       "  '2005',\n",
       "  [('xand', 0.3080592008340384),\n",
       "   ('america', 0.20144342968389867),\n",
       "   ('freedom', 0.1942340319823632),\n",
       "   ('tyranny', 0.1591391631656413),\n",
       "   ('americans', 0.1323551855063464),\n",
       "   ('k', 0.12322368033361537),\n",
       "   ('resentment', 0.12322368033361537),\n",
       "   ('defended', 0.12117985523416651),\n",
       "   ('excuse', 0.12117985523416651),\n",
       "   ('fire', 0.1119249041265977)]),\n",
       " ('Obama',\n",
       "  '2009',\n",
       "  [('jobs', 0.13249674402667574),\n",
       "   ('icy', 0.12148809518378492),\n",
       "   ('storms', 0.12148809518378492),\n",
       "   ('waters', 0.10056839993279439),\n",
       "   ('workers', 0.10056839993279439),\n",
       "   ('winter', 0.10056839993279439),\n",
       "   ('america', 0.09930306615306209),\n",
       "   ('generation', 0.09452328544955703),\n",
       "   ('journey', 0.09413862862945736),\n",
       "   ('earned', 0.08833116268445049)])]"
      ]
     },
     "execution_count": 73,
     "metadata": {},
     "output_type": "execute_result"
    }
   ],
   "source": [
    "[(text['name'], text['year'], [(dictionary[token[0]], token[1]) for token in doc]) for text, doc in zip(texts, sorted_docs)]"
   ]
  },
  {
   "cell_type": "markdown",
   "metadata": {},
   "source": [
    "### Exercise 3"
   ]
  },
  {
   "cell_type": "code",
   "execution_count": 74,
   "metadata": {},
   "outputs": [
    {
     "data": {
      "text/plain": [
       "[(0, (13, 0.16001716)),\n",
       " (1, (24, 0.059558876)),\n",
       " (2, (13, 0.19778861)),\n",
       " (3, (13, 0.15785694)),\n",
       " (4, (14, 0.20050159)),\n",
       " (5, (9, 0.18124631)),\n",
       " (6, (8, 0.12052809)),\n",
       " (7, (8, 0.31789652)),\n",
       " (8, (7, 0.31789652)),\n",
       " (9, (14, 0.26348448)),\n",
       " (10, (7, 0.18040511)),\n",
       " (11, (14, 0.19067594)),\n",
       " (12, (13, 0.27118456)),\n",
       " (13, (12, 0.27118456)),\n",
       " (14, (9, 0.26348448)),\n",
       " (15, (13, 0.18537056)),\n",
       " (16, (12, 0.24375957)),\n",
       " (17, (14, 0.2573405)),\n",
       " (18, (13, 0.21943015)),\n",
       " (19, (18, 0.08848246)),\n",
       " (20, (27, 0.14170362)),\n",
       " (21, (27, 0.12883462)),\n",
       " (22, (23, 0.20237121)),\n",
       " (23, (25, 0.21776198)),\n",
       " (24, (26, 0.20919083)),\n",
       " (25, (27, 0.25594592)),\n",
       " (26, (24, 0.20919083)),\n",
       " (27, (30, 0.26122516)),\n",
       " (28, (27, 0.21100071)),\n",
       " (29, (33, 0.13494636)),\n",
       " (30, (27, 0.26122516)),\n",
       " (31, (32, 0.14396647)),\n",
       " (32, (31, 0.14396647)),\n",
       " (33, (34, 0.19519448)),\n",
       " (34, (35, 0.21484832)),\n",
       " (35, (34, 0.21484832)),\n",
       " (36, (33, 0.1475563)),\n",
       " (37, (33, 0.16710341)),\n",
       " (38, (54, 0.20881313)),\n",
       " (39, (50, 0.11799169)),\n",
       " (40, (35, 0.17666389)),\n",
       " (41, (42, 0.21742459)),\n",
       " (42, (41, 0.21742459)),\n",
       " (43, (48, 0.17300338)),\n",
       " (44, (55, 0.17568296)),\n",
       " (45, (49, 0.18875775)),\n",
       " (46, (52, 0.24291515)),\n",
       " (47, (52, 0.15413475)),\n",
       " (48, (49, 0.25325435)),\n",
       " (49, (48, 0.25325435)),\n",
       " (50, (49, 0.18859628)),\n",
       " (51, (52, 0.26330245)),\n",
       " (52, (51, 0.26330245)),\n",
       " (53, (52, 0.19001111)),\n",
       " (54, (38, 0.20881313)),\n",
       " (55, (51, 0.25266948))]"
      ]
     },
     "execution_count": 74,
     "metadata": {},
     "output_type": "execute_result"
    }
   ],
   "source": [
    "sims = [(i, sorted(enumerate(index[doc]), key=lambda x: x[1], reverse=True)[1]) for i, doc in enumerate(tfidf_corpus)]\n",
    "sims"
   ]
  },
  {
   "cell_type": "code",
   "execution_count": 75,
   "metadata": {},
   "outputs": [
    {
     "data": {
      "text/plain": [
       "[('Washington', ('Harrison', 0.16001716)),\n",
       " ('Washington', ('Cleveland', 0.059558876)),\n",
       " ('Adams', ('Harrison', 0.19778861)),\n",
       " ('Jefferson', ('Harrison', 0.15785694)),\n",
       " ('Jefferson', ('Polk', 0.20050159)),\n",
       " ('Madison', ('Adams', 0.18124631)),\n",
       " ('Madison', ('Monroe', 0.12052809)),\n",
       " ('Monroe', ('Monroe', 0.31789652)),\n",
       " ('Monroe', ('Monroe', 0.31789652)),\n",
       " ('Adams', ('Polk', 0.26348448)),\n",
       " ('Jackson', ('Monroe', 0.18040511)),\n",
       " ('Jackson', ('Polk', 0.19067594)),\n",
       " ('VanBuren', ('Harrison', 0.27118456)),\n",
       " ('Harrison', ('VanBuren', 0.27118456)),\n",
       " ('Polk', ('Adams', 0.26348448)),\n",
       " ('Taylor', ('Harrison', 0.18537056)),\n",
       " ('Pierce', ('VanBuren', 0.24375957)),\n",
       " ('Buchanan', ('Polk', 0.2573405)),\n",
       " ('Lincoln', ('Harrison', 0.21943015)),\n",
       " ('Lincoln', ('Lincoln', 0.08848246)),\n",
       " ('Grant', ('McKinley', 0.14170362)),\n",
       " ('Grant', ('McKinley', 0.12883462)),\n",
       " ('Hayes', ('Garfield', 0.20237121)),\n",
       " ('Garfield', ('Harrison', 0.21776198)),\n",
       " ('Cleveland', ('Cleveland', 0.20919083)),\n",
       " ('Harrison', ('McKinley', 0.25594592)),\n",
       " ('Cleveland', ('Cleveland', 0.20919083)),\n",
       " ('McKinley', ('Taft', 0.26122516)),\n",
       " ('McKinley', ('McKinley', 0.21100071)),\n",
       " ('Roosevelt', ('Harding', 0.13494636)),\n",
       " ('Taft', ('McKinley', 0.26122516)),\n",
       " ('Wilson', ('Wilson', 0.14396647)),\n",
       " ('Wilson', ('Wilson', 0.14396647)),\n",
       " ('Harding', ('Coolidge', 0.19519448)),\n",
       " ('Coolidge', ('Hoover', 0.21484832)),\n",
       " ('Hoover', ('Coolidge', 0.21484832)),\n",
       " ('Roosevelt', ('Harding', 0.1475563)),\n",
       " ('Roosevelt', ('Harding', 0.16710341)),\n",
       " ('Roosevelt', ('Bush', 0.20881313)),\n",
       " ('Roosevelt', ('Bush', 0.11799169)),\n",
       " ('Truman', ('Hoover', 0.17666389)),\n",
       " ('Eisenhower', ('Eisenhower', 0.21742459)),\n",
       " ('Eisenhower', ('Eisenhower', 0.21742459)),\n",
       " ('Kennedy', ('Reagan', 0.17300338)),\n",
       " ('Johnson', ('Obama', 0.17568296)),\n",
       " ('Nixon', ('Reagan', 0.18875775)),\n",
       " ('Nixon', ('Clinton', 0.24291515)),\n",
       " ('Carter', ('Clinton', 0.15413475)),\n",
       " ('Reagan', ('Reagan', 0.25325435)),\n",
       " ('Reagan', ('Reagan', 0.25325435)),\n",
       " ('Bush', ('Reagan', 0.18859628)),\n",
       " ('Clinton', ('Clinton', 0.26330245)),\n",
       " ('Clinton', ('Clinton', 0.26330245)),\n",
       " ('Bush', ('Clinton', 0.19001111)),\n",
       " ('Bush', ('Roosevelt', 0.20881313)),\n",
       " ('Obama', ('Clinton', 0.25266948))]"
      ]
     },
     "execution_count": 75,
     "metadata": {},
     "output_type": "execute_result"
    }
   ],
   "source": [
    "list(map(lambda x: (texts[x[0]]['name'], (texts[x[1][0]]['name'], x[1][1])), sims))"
   ]
  },
  {
   "cell_type": "markdown",
   "metadata": {},
   "source": [
    "The solution could be improved - we ignored only similariy of the given speech with itself, but we could have also filtered out speeches from the same president (that is the reason we have similariy *Clinton - Clinton*). Other possibility is to compare the speeches only with past ones, if we were interested in the source of their inspiration (e.g., *Kennedy could not have been inspired by Reagan's speech*)."
   ]
  },
  {
   "cell_type": "markdown",
   "metadata": {},
   "source": [
    "### Exercise 4"
   ]
  },
  {
   "cell_type": "code",
   "execution_count": 76,
   "metadata": {},
   "outputs": [],
   "source": [
    "%matplotlib inline\n",
    "import matplotlib.pyplot as plt\n",
    "plt.rcParams[\"figure.figsize\"] = (20,3)"
   ]
  },
  {
   "cell_type": "code",
   "execution_count": 77,
   "metadata": {},
   "outputs": [
    {
     "name": "stdout",
     "output_type": "stream",
     "text": [
      "['1789', '1793', '1797', '1801', '1805', '1809', '1813', '1817', '1821', '1825', '1829', '1833', '1837', '1841', '1845', '1849', '1853', '1857', '1861', '1865', '1869', '1873', '1877', '1881', '1885', '1889', '1893', '1897', '1901', '1905', '1909', '1913', '1917', '1921', '1925', '1929', '1933', '1937', '1941', '1945', '1949', '1953', '1957', '1961', '1965', '1969', '1973', '1977', '1981', '1985', '1989', '1993', '1997', '2001', '2005', '2009']\n"
     ]
    }
   ],
   "source": [
    "years = [text['year'] for text in texts]\n",
    "print(years)"
   ]
  },
  {
   "cell_type": "code",
   "execution_count": 78,
   "metadata": {
    "scrolled": true
   },
   "outputs": [],
   "source": [
    "def plot_freq(docs, targets):\n",
    "    cdf = nltk.ConditionalFreqDist(\n",
    "        (target, year) \n",
    "        for year, doc in docs\n",
    "        for w in doc \n",
    "        for target in targets \n",
    "        if w.startswith(target))\n",
    "    cdf.plot()"
   ]
  },
  {
   "cell_type": "code",
   "execution_count": 79,
   "metadata": {},
   "outputs": [
    {
     "data": {
      "image/png": "[encoded data removed]",
      "text/plain": [
       "<Figure size 432x288 with 1 Axes>"
      ]
     },
     "metadata": {},
     "output_type": "display_data"
    }
   ],
   "source": [
    "plot_freq(zip(years, tokenized_docs), ['america', 'citizen'])"
   ]
  },
  {
   "cell_type": "code",
   "execution_count": 80,
   "metadata": {},
   "outputs": [
    {
     "data": {
      "image/png": "[encoded data removed]",
      "text/plain": [
       "<Figure size 432x288 with 1 Axes>"
      ]
     },
     "metadata": {},
     "output_type": "display_data"
    }
   ],
   "source": [
    "plot_freq(zip(years, tokenized_docs), ['liberty', 'freedom'])"
   ]
  },
  {
   "cell_type": "code",
   "execution_count": 81,
   "metadata": {},
   "outputs": [
    {
     "data": {
      "image/png": "[encoded data removed]",
      "text/plain": [
       "<Figure size 432x288 with 1 Axes>"
      ]
     },
     "metadata": {},
     "output_type": "display_data"
    }
   ],
   "source": [
    "plot_freq(zip(years, tokenized_docs), ['war'])"
   ]
  },
  {
   "cell_type": "markdown",
   "metadata": {},
   "source": [
    "### Exercise 5"
   ]
  },
  {
   "cell_type": "code",
   "execution_count": 82,
   "metadata": {},
   "outputs": [],
   "source": [
    "from sklearn.pipeline import Pipeline\n",
    "from sklearn.base import TransformerMixin"
   ]
  },
  {
   "cell_type": "code",
   "execution_count": 83,
   "metadata": {},
   "outputs": [],
   "source": [
    "class TextPreprocessor(TransformerMixin):\n",
    "    def __init__(self, tokenizer, stopwords):\n",
    "        self.tokenizer = tokenizer\n",
    "        self.stopwords = stopwords\n",
    "    \n",
    "    def preprocess(self, doc):\n",
    "        tokenized = self.tokenizer(doc)\n",
    "        return [token.lower() for token in tokenized if token.isalpha() and token.lower() not in self.stopwords]\n",
    "    \n",
    "    def fit(self, docs, y=None, **fit_params):\n",
    "        return self\n",
    "    \n",
    "    def transform(self, docs, **transform_params):\n",
    "        return [self.preprocess(doc) for doc in docs]"
   ]
  },
  {
   "cell_type": "code",
   "execution_count": 84,
   "metadata": {},
   "outputs": [],
   "source": [
    "from collections import defaultdict\n",
    "\n",
    "class CorpusTransformer(TransformerMixin):\n",
    "    def __init__(self, min_freq=1):\n",
    "        self.min_freq = min_freq\n",
    "        self.dictionary = None\n",
    "    \n",
    "    def filter_tokens(self, docs):\n",
    "        frequency = defaultdict(int)\n",
    "        for doc in docs:\n",
    "            for token in doc:\n",
    "                frequency[token] += 1\n",
    "        \n",
    "        return [[token for token in doc if frequency[token] > 1] for doc in docs]\n",
    "        \n",
    "    def fit(self, docs, y=None, **fit_params):\n",
    "        self.dictionary = corpora.Dictionary(self.filter_tokens(docs))\n",
    "        return self\n",
    "    \n",
    "    def transform(self, docs, **transform_params):\n",
    "        return [self.dictionary.doc2bow(doc) for doc in docs]"
   ]
  },
  {
   "cell_type": "code",
   "execution_count": 85,
   "metadata": {},
   "outputs": [],
   "source": [
    "class TfIdfTransformer(TransformerMixin):\n",
    "    def __init__(self):\n",
    "        self.model = None\n",
    "        \n",
    "    def fit(self, docs, y=None, **fit_params):\n",
    "        self.model = models.TfidfModel(docs)\n",
    "        return self\n",
    "    \n",
    "    def transform(self, docs, **transform_params):\n",
    "        return self.model[docs]"
   ]
  },
  {
   "cell_type": "code",
   "execution_count": 86,
   "metadata": {},
   "outputs": [],
   "source": [
    "ppl = Pipeline([\n",
    "    ('preprocess', TextPreprocessor(nltk.word_tokenize, nltk.corpus.stopwords.words('english'))),\n",
    "    ('to_corpus', CorpusTransformer()),\n",
    "    ('tfidf', TfIdfTransformer())\n",
    "])"
   ]
  },
  {
   "cell_type": "code",
   "execution_count": 87,
   "metadata": {},
   "outputs": [],
   "source": [
    "transformed_corpus = ppl.fit_transform([text['text'] for text in texts])"
   ]
  },
  {
   "cell_type": "code",
   "execution_count": 88,
   "metadata": {},
   "outputs": [
    {
     "data": {
      "text/plain": [
       "[(0, 0.028010090497208276),\n",
       " (1, 0.07085344594214385),\n",
       " (2, 0.04749339521031525),\n",
       " (3, 0.015511844798307405),\n",
       " (4, 0.04137634383884512),\n",
       " (5, 0.028010090497208276),\n",
       " (6, 0.05611489489049448),\n",
       " (7, 0.06223194626196463),\n",
       " (8, 0.025148643506526666),\n",
       " (9, 0.03663159017738751)]"
      ]
     },
     "execution_count": 88,
     "metadata": {},
     "output_type": "execute_result"
    }
   ],
   "source": [
    "transformed_corpus[0][:10]"
   ]
  }
 ],
 "metadata": {
  "kernelspec": {
   "display_name": "Python 3",
   "language": "python",
   "name": "python3"
  },
  "language_info": {
   "codemirror_mode": {
    "name": "ipython",
    "version": 3
   },
   "file_extension": ".py",
   "mimetype": "text/x-python",
   "name": "python",
   "nbconvert_exporter": "python",
   "pygments_lexer": "ipython3",
   "version": "3.6.4"
  }
 },
 "nbformat": 4,
 "nbformat_minor": 2
}
