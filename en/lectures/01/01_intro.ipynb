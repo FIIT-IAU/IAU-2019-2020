{
 "cells": [
  {
   "cell_type": "markdown",
   "metadata": {
    "slideshow": {
     "slide_type": "slide"
    }
   },
   "source": [
    "# Introduction into Intelligent Data Analysis\n",
    "\n",
    "### Róbert Móro, Jakub Ševcech\n",
    "\n",
    "26.9.2019"
   ]
  },
  {
   "cell_type": "markdown",
   "metadata": {
    "slideshow": {
     "slide_type": "slide"
    }
   },
   "source": [
    "## You can ask us directly or at http://slido.com#iau"
   ]
  },
  {
   "cell_type": "markdown",
   "metadata": {
    "slideshow": {
     "slide_type": "slide"
    }
   },
   "source": [
    "# Today, we will talk about..."
   ]
  },
  {
   "cell_type": "markdown",
   "metadata": {
    "slideshow": {
     "slide_type": "fragment"
    }
   },
   "source": [
    "### Data science"
   ]
  },
  {
   "cell_type": "markdown",
   "metadata": {
    "slideshow": {
     "slide_type": "fragment"
    }
   },
   "source": [
    "### Question types that data scientists can pose"
   ]
  },
  {
   "cell_type": "markdown",
   "metadata": {
    "slideshow": {
     "slide_type": "fragment"
    }
   },
   "source": [
    "### Data analysis and machine learning workflow"
   ]
  },
  {
   "cell_type": "markdown",
   "metadata": {
    "slideshow": {
     "slide_type": "fragment"
    }
   },
   "source": [
    "### Tools for data analysis"
   ]
  },
  {
   "cell_type": "markdown",
   "metadata": {
    "slideshow": {
     "slide_type": "fragment"
    }
   },
   "source": [
    "### Course organization and requirements"
   ]
  },
  {
   "cell_type": "markdown",
   "metadata": {
    "slideshow": {
     "slide_type": "slide"
    }
   },
   "source": [
    "# Data scientist: The most sexy job of the 21st century\\*\n",
    "\n",
    "\n",
    "\n",
    "\n",
    "\\* Thomas H. Davenport, D.J. Patil: Data Scientist: The Sexiest Job of the 21st Century, Harvard Business Review, 2012"
   ]
  },
  {
   "cell_type": "markdown",
   "metadata": {
    "slideshow": {
     "slide_type": "slide"
    }
   },
   "source": [
    "# What do you think of when you hear (intelligent) data analysis? What about data  science?"
   ]
  },
  {
   "cell_type": "markdown",
   "metadata": {
    "slideshow": {
     "slide_type": "fragment"
    }
   },
   "source": [
    "<img src=\"img/kowalski-analysis.png\" alt=\"Kowalski, analysis!\" style=\"width: 800px; margin-right: auto; margin-left: auto;\"/>"
   ]
  },
  {
   "cell_type": "markdown",
   "metadata": {
    "slideshow": {
     "slide_type": "slide"
    }
   },
   "source": [
    "## There is no exact definition of data science. Data scientists is..."
   ]
  },
  {
   "cell_type": "markdown",
   "metadata": {
    "slideshow": {
     "slide_type": "fragment"
    }
   },
   "source": [
    "...a rebranding attempt; someone  who understands statistics better than a software engineer and is better in software engineering than a statistician\n",
    "\n",
    "https://www.quora.com/What-is-data-science/answer/Rahul-Agarwal-10"
   ]
  },
  {
   "cell_type": "markdown",
   "metadata": {
    "slideshow": {
     "slide_type": "slide"
    }
   },
   "source": [
    "## Even job positions can have different names\n",
    "\n",
    "<img src=\"img/kaggle-job-title.png\" alt=\"Various data science job titles\" style=\"width: 700px; margin-right: auto; margin-left: auto;\"/>\n",
    "\n",
    "Source: The State of Data Science & Machine Learning. 2017. Kaggle. https://www.kaggle.com/surveys/2017"
   ]
  },
  {
   "cell_type": "markdown",
   "metadata": {
    "slideshow": {
     "slide_type": "slide"
    }
   },
   "source": [
    "<img src=\"img/data-science-venn.png\" alt=\"Data science - Venn diagram\" style=\"width: 1000px; margin-right: auto; margin-left: auto;\"/>"
   ]
  },
  {
   "cell_type": "markdown",
   "metadata": {
    "slideshow": {
     "slide_type": "slide"
    }
   },
   "source": [
    "<img src=\"img/2019_Matt_Turck_Big_Data_Landscape_Final_Fullsize.png\" alt=\"Big Data Landscape\" style=\"width: 1000px; margin-right: auto; margin-left: auto;\"/>"
   ]
  },
  {
   "cell_type": "markdown",
   "metadata": {
    "slideshow": {
     "slide_type": "slide"
    }
   },
   "source": [
    "<img src=\"img/data-science-related_en.png\" alt=\"Related fields\" style=\"width: 1000px; margin-right: auto; margin-left: auto;\"/>"
   ]
  },
  {
   "cell_type": "markdown",
   "metadata": {
    "slideshow": {
     "slide_type": "slide"
    }
   },
   "source": [
    "<img src=\"img/data-science-timeline.png\" alt=\"Data science timeline\" style=\"width: 900px; margin-right: auto; margin-left: auto;\"/>\n",
    "\n",
    "Source: http://shakthydoss.com/technical/what-is-the-difference-between-artificial-intelligence-machine-learning-statistics-and-data-mining/"
   ]
  },
  {
   "cell_type": "markdown",
   "metadata": {
    "slideshow": {
     "slide_type": "slide"
    }
   },
   "source": [
    "If you develop algorithms mimicking human behavior (reasoning, thinking, knowledge representation, planning, etc.), you work in the field of *artificial intelligence*"
   ]
  },
  {
   "cell_type": "markdown",
   "metadata": {
    "slideshow": {
     "slide_type": "fragment"
    }
   },
   "source": [
    "If you describe data (descriptive statistics) or draw conclusions about a populations based on a sample (inferential statistics), je are most likely a *statistician*"
   ]
  },
  {
   "cell_type": "markdown",
   "metadata": {
    "slideshow": {
     "slide_type": "fragment"
    }
   },
   "source": [
    "If you use inferential statistics to develop algorithms capable of learning, you probably work in *machine learning*"
   ]
  },
  {
   "cell_type": "markdown",
   "metadata": {
    "slideshow": {
     "slide_type": "fragment"
    }
   },
   "source": [
    "If you use machine learning to solve a specific problem and descriptive statistics to describe data and results, you do *data mining*"
   ]
  },
  {
   "cell_type": "markdown",
   "metadata": {
    "slideshow": {
     "slide_type": "slide"
    }
   },
   "source": [
    "<img src=\"img/data-science-roles.png\" alt=\"Data science roles\" style=\"width: 1100px; margin-right: auto; margin-left: auto;\"/>\n",
    "\n",
    "Source: Essential Data Skills - Supply and Demand. 2018 Kaggle ML & DS Survey. https://www.kaggle.com/mullervilmos/essential-data-skills-supply-and-demand"
   ]
  },
  {
   "cell_type": "markdown",
   "metadata": {
    "slideshow": {
     "slide_type": "slide"
    }
   },
   "source": [
    "## Example: Let's improve a recommender on a website\n",
    "\n",
    "<img src=\"img/recommendations.png\" alt=\"Recommendations\" style=\"width: 1200px; margin-right: auto; margin-left: auto;\"/>"
   ]
  },
  {
   "cell_type": "markdown",
   "metadata": {
    "slideshow": {
     "slide_type": "slide"
    }
   },
   "source": [
    "## A data scientist...\n",
    "\n",
    "**1. Formulates questions and hypotheses**\n",
    "- What does it mean that the existing recommender does not work (well)?\n",
    "- What metric(s) are we interested in?\n",
    "- What data are available? What is recorded (logged)?\n",
    "- Which signals are suitable for user behavior prediction (i.e., that they will buy an item or be interested in it)?"
   ]
  },
  {
   "cell_type": "markdown",
   "metadata": {
    "slideshow": {
     "slide_type": "fragment"
    }
   },
   "source": [
    "**2. Defines an ideal data set**\n",
    "- Gets the data\n",
    "- Cleans the data\n",
    "- Explores the data (exploratory analysis)"
   ]
  },
  {
   "cell_type": "markdown",
   "metadata": {
    "slideshow": {
     "slide_type": "slide"
    }
   },
   "source": [
    "## A data scientist...\n",
    "\n",
    "**3. Identifies and carries out a suitable analysis**\n",
    "- Design and implementation of a new recommender\n",
    "- Evaluation (comparison) with the existing one"
   ]
  },
  {
   "cell_type": "markdown",
   "metadata": {
    "slideshow": {
     "slide_type": "fragment"
    }
   },
   "source": [
    "**4. Interprets and communicates the results (data product)**"
   ]
  },
  {
   "cell_type": "markdown",
   "metadata": {
    "slideshow": {
     "slide_type": "fragment"
    }
   },
   "source": [
    "**5. Automatizes the steps 2-4 for prediction on the new data**\n",
    "- Deployment of the new recommender to the production; scalability"
   ]
  },
  {
   "cell_type": "markdown",
   "metadata": {
    "slideshow": {
     "slide_type": "slide"
    }
   },
   "source": [
    "# Next, we delve into...\n",
    "\n",
    "1. *Data science*\n",
    "\n",
    "2. **Question types that data scientists can pose**\n",
    "\n",
    "3. **Data analysis and machine learning workflow**\n",
    "\n",
    "4. **Tools for data analysis**\n",
    "\n",
    "5. Course organization and requirements"
   ]
  },
  {
   "cell_type": "markdown",
   "metadata": {
    "slideshow": {
     "slide_type": "slide"
    }
   },
   "source": [
    "# A data scientist's work begins with a *question*"
   ]
  },
  {
   "cell_type": "markdown",
   "metadata": {
    "slideshow": {
     "slide_type": "fragment"
    }
   },
   "source": [
    "**Descriptive**\n",
    "- We do not draw conclusions nor do we generalize\n",
    "- *How many people voted for conservatives?*"
   ]
  },
  {
   "cell_type": "markdown",
   "metadata": {
    "slideshow": {
     "slide_type": "fragment"
    }
   },
   "source": [
    "**Explorative**\n",
    "- We look at the data and look for something new and interesting; we do not try to definitivelly prove it at this point\n",
    "- *Are there any possible relations between age and voter turnout or age and voting for conservatives/liberals?*"
   ]
  },
  {
   "cell_type": "markdown",
   "metadata": {
    "slideshow": {
     "slide_type": "slide"
    }
   },
   "source": [
    "**Inferential**\n",
    "- We take a sample data sample and try to extrapolate and generalize for a larger population\n",
    "- *The impact of age on the voter turnout and their vote*"
   ]
  },
  {
   "cell_type": "markdown",
   "metadata": {
    "slideshow": {
     "slide_type": "fragment"
    }
   },
   "source": [
    "**Predictive**\n",
    "- We use collected data (observations, X) for predicting something else (some value Y)\n",
    "- Even if X predicts Y, it does not necessarily mean that X causes Y\n",
    "- *How will the first-time voters vote in the next elections?*"
   ]
  },
  {
   "cell_type": "markdown",
   "metadata": {
    "slideshow": {
     "slide_type": "slide"
    }
   },
   "source": [
    "**Causal (prescriptive)**\n",
    "- We examine what will happen with X with changing values of Y\n",
    "- We need randomized trials to identify this type of relationship\n",
    "- *Did the election campaign change voters' minds?*"
   ]
  },
  {
   "cell_type": "markdown",
   "metadata": {
    "slideshow": {
     "slide_type": "slide"
    }
   },
   "source": [
    "## Machine learning (ML) workflow"
   ]
  },
  {
   "cell_type": "markdown",
   "metadata": {
    "slideshow": {
     "slide_type": "fragment"
    }
   },
   "source": [
    "**Problem definition:** (in)formal description, limitations, manual solution"
   ]
  },
  {
   "cell_type": "markdown",
   "metadata": {
    "slideshow": {
     "slide_type": "fragment"
    }
   },
   "source": [
    "**Data integration:** format and structure consolidation, entities (records) linking"
   ]
  },
  {
   "cell_type": "markdown",
   "metadata": {
    "slideshow": {
     "slide_type": "fragment"
    }
   },
   "source": [
    "**Exploratory analysis:** Descriptive statistics, distributions, correlations, outliers, ..."
   ]
  },
  {
   "cell_type": "markdown",
   "metadata": {
    "slideshow": {
     "slide_type": "fragment"
    }
   },
   "source": [
    "**Data pre-processing:** Sampling, addressing outliers and missing values, ..."
   ]
  },
  {
   "cell_type": "markdown",
   "metadata": {
    "slideshow": {
     "slide_type": "slide"
    }
   },
   "source": [
    "**Feature engineering:** extraction, transformation and feature selection"
   ]
  },
  {
   "cell_type": "markdown",
   "metadata": {
    "slideshow": {
     "slide_type": "fragment"
    }
   },
   "source": [
    "**Training, evaluation and model selection:** selection of evaluation methodology, hyperparameters optimization, optimal model selection"
   ]
  },
  {
   "cell_type": "markdown",
   "metadata": {
    "slideshow": {
     "slide_type": "fragment"
    }
   },
   "source": [
    "**Results presentation:** results visualization, limitations of the proposed solution, description and publication of the data set, deployment and operation"
   ]
  },
  {
   "cell_type": "markdown",
   "metadata": {
    "slideshow": {
     "slide_type": "slide"
    }
   },
   "source": [
    "# Which step do you think takes the most time?"
   ]
  },
  {
   "cell_type": "markdown",
   "metadata": {
    "slideshow": {
     "slide_type": "slide"
    }
   },
   "source": [
    "## The biggest barrier for data scientists is *dirty data*\n",
    "\n",
    "<img src=\"img/data-scientists-problems.png\" alt=\"Barriers that data scientists face\" style=\"width: 800px; margin-right: auto; margin-left: auto;\"/>\n",
    "\n",
    "Source: The State of Data Science & Machine Learning. 2017. Kaggle. https://www.kaggle.com/surveys/2017"
   ]
  },
  {
   "cell_type": "markdown",
   "metadata": {
    "slideshow": {
     "slide_type": "slide"
    }
   },
   "source": [
    "<img src=\"img/data-scientists-tasks.png\" alt=\"Data scientists' tasks\" style=\"width: 1200px; margin-right: auto; margin-left: auto;\"/>\n",
    "\n",
    "Source: Essential Data Skills - Supply and Demand. 2018 Kaggle ML & DS Survey. https://www.kaggle.com/mullervilmos/essential-data-skills-supply-and-demand"
   ]
  },
  {
   "cell_type": "markdown",
   "metadata": {
    "slideshow": {
     "slide_type": "slide"
    }
   },
   "source": [
    "## Machine learning (ML) workflow\n",
    "\n",
    "# It is never a waterfall! "
   ]
  },
  {
   "cell_type": "markdown",
   "metadata": {
    "slideshow": {
     "slide_type": "slide"
    }
   },
   "source": [
    "## There are many machine learning approaches, we will discuss only some\n",
    "\n",
    "<img src=\"img/ml-approaches.png\" alt=\"Machine learning approaches\" style=\"width: 900px; margin-right: auto; margin-left: auto;\"/>"
   ]
  },
  {
   "cell_type": "markdown",
   "metadata": {
    "slideshow": {
     "slide_type": "slide"
    }
   },
   "source": [
    "## We will discuss the most used approaches – *logistic* (and *linear*) *regression* and *decision trees*"
   ]
  },
  {
   "cell_type": "markdown",
   "metadata": {
    "slideshow": {
     "slide_type": "fragment"
    }
   },
   "source": [
    "<img src=\"img/ml-approaches-most-used.png\" alt=\"The most used machine learning approaches\" style=\"width: 800px; margin-right: auto; margin-left: auto;\"/>\n",
    "\n",
    "Source: The State of Data Science & Machine Learning. 2017. Kaggle. https://www.kaggle.com/surveys/2017"
   ]
  },
  {
   "cell_type": "markdown",
   "metadata": {
    "slideshow": {
     "slide_type": "slide"
    }
   },
   "source": [
    "## What is the most used tool/language for data analysis?"
   ]
  },
  {
   "cell_type": "markdown",
   "metadata": {
    "slideshow": {
     "slide_type": "fragment"
    }
   },
   "source": [
    "<img src=\"img/data-science-tools.png\" alt=\"The most used data science tools/languagues\" style=\"width: 800px; margin-right: auto; margin-left: auto;\"/>\n",
    "\n",
    "Source: The State of Data Science & Machine Learning. 2017. Kaggle. https://www.kaggle.com/surveys/2017"
   ]
  },
  {
   "cell_type": "markdown",
   "metadata": {
    "slideshow": {
     "slide_type": "slide"
    }
   },
   "source": [
    "## We will work with *Python* during this course\n",
    "\n",
    "<img src=\"img/python.png\" alt=\"Python\" style=\"width: 400px; float: left; margin-right: 20px; margin-top: 100px;\"/>\n",
    "<img src=\"img/jupyter.jpg\" alt=\"Jupyter\" style=\"width: 400px; float: left; margin-right: 20px; margin-top: 50px;\"/>"
   ]
  },
  {
   "cell_type": "markdown",
   "metadata": {
    "slideshow": {
     "slide_type": "slide"
    }
   },
   "source": [
    "# We are almost at the end\n",
    "\n",
    "1. *Data science*\n",
    "\n",
    "2. *Question types that data scientists can pose*\n",
    "\n",
    "3. *Data analysis and machine learning workflow*\n",
    "\n",
    "4. *Tools for data analysis*\n",
    "\n",
    "5. **Course organization and requirements**"
   ]
  },
  {
   "cell_type": "markdown",
   "metadata": {
    "slideshow": {
     "slide_type": "slide"
    }
   },
   "source": [
    "# Course organization and requirements\n",
    "\n",
    "## https://github.com/robom/IAU-2019-2020 (it is also in English)"
   ]
  },
  {
   "cell_type": "markdown",
   "metadata": {
    "slideshow": {
     "slide_type": "slide"
    }
   },
   "source": [
    "# Your feedback is important to use\n",
    "\n",
    "Last year, 50% of students filled in the final questionnaire in AIS"
   ]
  },
  {
   "cell_type": "markdown",
   "metadata": {
    "slideshow": {
     "slide_type": "fragment"
    }
   },
   "source": [
    "We raised the number of points you can get during semester"
   ]
  },
  {
   "cell_type": "markdown",
   "metadata": {
    "slideshow": {
     "slide_type": "fragment"
    }
   },
   "source": [
    "We improved the project description"
   ]
  },
  {
   "cell_type": "markdown",
   "metadata": {
    "slideshow": {
     "slide_type": "fragment"
    }
   },
   "source": [
    "We strive to minimalize the differences in assessment between the lab teachers"
   ]
  },
  {
   "cell_type": "markdown",
   "metadata": {
    "slideshow": {
     "slide_type": "fragment"
    }
   },
   "source": [
    "We work on improving learning materials for you"
   ]
  },
  {
   "cell_type": "markdown",
   "metadata": {
    "slideshow": {
     "slide_type": "slide"
    }
   },
   "source": [
    "## We will be happy if you give us your feedback here: https://tinyurl.com/iau2019-w01"
   ]
  },
  {
   "cell_type": "markdown",
   "metadata": {
    "slideshow": {
     "slide_type": "slide"
    }
   },
   "source": [
    "# Next time:\n",
    "\n",
    "## Jakub Ševcech: Introduction to data processing in Python"
   ]
  }
 ],
 "metadata": {
  "celltoolbar": "Slideshow",
  "kernelspec": {
   "display_name": "Python 3",
   "language": "python",
   "name": "python3"
  },
  "language_info": {
   "codemirror_mode": {
    "name": "ipython",
    "version": 3
   },
   "file_extension": ".py",
   "mimetype": "text/x-python",
   "name": "python",
   "nbconvert_exporter": "python",
   "pygments_lexer": "ipython3",
   "version": "3.7.1"
  }
 },
 "nbformat": 4,
 "nbformat_minor": 2
}
